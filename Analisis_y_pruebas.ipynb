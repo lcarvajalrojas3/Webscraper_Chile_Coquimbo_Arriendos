{
 "cells": [
  {
   "cell_type": "code",
   "execution_count": 51,
   "metadata": {},
   "outputs": [],
   "source": [
    "import pandas as pd\n",
    "import os"
   ]
  },
  {
   "cell_type": "code",
   "execution_count": 52,
   "metadata": {},
   "outputs": [],
   "source": [
    "def unicos_columna(df, numero):\n",
    "    print(\"DATOS COLUMNA \", df.columns[numero])\n",
    "    print(df[df.columns[numero]].value_counts()) "
   ]
  },
  {
   "attachments": {},
   "cell_type": "markdown",
   "metadata": {},
   "source": [
    "<h2> Yapo"
   ]
  },
  {
   "cell_type": "code",
   "execution_count": 81,
   "metadata": {},
   "outputs": [],
   "source": [
    "dfyapo = pd.read_csv(r\"C:\\Users\\bigdatauls\\Documents\\workspace\\python\\Webscrapper_arriendos\\Yapo\\Df_total.csv\")"
   ]
  },
  {
   "cell_type": "code",
   "execution_count": 45,
   "metadata": {},
   "outputs": [
    {
     "name": "stdout",
     "output_type": "stream",
     "text": [
      "<class 'pandas.core.frame.DataFrame'>\n",
      "RangeIndex: 1134 entries, 0 to 1133\n",
      "Data columns (total 17 columns):\n",
      " #   Column              Non-Null Count  Dtype  \n",
      "---  ------              --------------  -----  \n",
      " 0   Link                1134 non-null   object \n",
      " 1   Comuna              1134 non-null   object \n",
      " 2   Tipousuario         316 non-null    object \n",
      " 3   Direccion           215 non-null    object \n",
      " 4   Habitaciones        1108 non-null   object \n",
      " 5   Baños               1104 non-null   object \n",
      " 6   Precio              1088 non-null   object \n",
      " 7   Descripcion         1134 non-null   object \n",
      " 8   Titulo1             1134 non-null   object \n",
      " 9   Anfitrion           1134 non-null   object \n",
      " 10  Ubicacion           289 non-null    object \n",
      " 11  Fechapubli          1134 non-null   object \n",
      " 12  Avisospublicados    1134 non-null   float64\n",
      " 13  Tipo                1134 non-null   object \n",
      " 14  Estacionamiento     928 non-null    float64\n",
      " 15  Avisosactivosfecha  1134 non-null   int64  \n",
      " 16  Scrapdate           1134 non-null   object \n",
      "dtypes: float64(2), int64(1), object(14)\n",
      "memory usage: 150.7+ KB\n"
     ]
    }
   ],
   "source": [
    "dfyapo.info()"
   ]
  },
  {
   "cell_type": "code",
   "execution_count": 218,
   "metadata": {},
   "outputs": [
    {
     "name": "stdout",
     "output_type": "stream",
     "text": [
      "DATOS COLUMNA  Scrapdate\n",
      "{'Scrapdate': '06-02-2023'}    1134\n",
      "Name: Scrapdate, dtype: int64\n"
     ]
    }
   ],
   "source": [
    "unicos_columna(dfyapo,16)"
   ]
  },
  {
   "attachments": {},
   "cell_type": "markdown",
   "metadata": {},
   "source": [
    "Notas: \n",
    "0   Link                \n",
    " 1   Comuna              \n",
    " 2   Tipousuario         \n",
    " 3   Direccion           Hay direcciones que se repiten, incluso con númnero ¿Será un duplicado? ¿O serán dos departamentos en un mismo edificio?\n",
    " 4   Habitaciones        Es necesario que los datos numéricos queden en un mismo formato (mantener el 4 o más)\n",
    " 5   Baños               Es necesario que los datos numéricos queden en un mismo formato (mantener el 4 o más)\n",
    " 6   Precio              Es necesario que los datos numéricos queden en un mismo formato trabajable. Algunos avisos sin precio o están vencidos, o son de compra. filtrar arriendos.\n",
    " 7   Descripcion         Solo existe 1 valor que se repite (duplicado 4 veces). No implica necesariamente que no existan duplicados.\n",
    " 8   Titulo1             \n",
    " 9   Anfitrion           Hay varios anfitriones repetidos, quizás por aquí podría dirigirse la eliminación de duplicados\n",
    " 10  Ubicacion           Hay varias ubicaciones repetidas, esto también puede ser un elemento de filtro\n",
    " 11  Fechapubli          \n",
    " 12  Avisospublicados    \n",
    " 13  Tipo                \n",
    " 14  Estacionamiento     \n",
    " 15  Avisosactivosfecha  \n",
    " 16  Scrapdate           pasar no como dic"
   ]
  },
  {
   "cell_type": "code",
   "execution_count": 97,
   "metadata": {},
   "outputs": [
    {
     "data": {
      "text/plain": [
       "'https://new.yapo.cl/inmuebles/cabaa-en-coquimbo_85916701'"
      ]
     },
     "execution_count": 97,
     "metadata": {},
     "output_type": "execute_result"
    }
   ],
   "source": [
    "dfyapo[dfyapo[\"Precio\"].isna()][\"Link\"][74]"
   ]
  },
  {
   "cell_type": "code",
   "execution_count": 18,
   "metadata": {},
   "outputs": [
    {
     "name": "stderr",
     "output_type": "stream",
     "text": [
      "C:\\Users\\bigdatauls\\AppData\\Local\\Temp\\ipykernel_31296\\215802589.py:3: SettingWithCopyWarning: \n",
      "A value is trying to be set on a copy of a slice from a DataFrame\n",
      "\n",
      "See the caveats in the documentation: https://pandas.pydata.org/pandas-docs/stable/user_guide/indexing.html#returning-a-view-versus-a-copy\n",
      "  df[\"Habitaciones\"][n] = 4\n",
      "C:\\Users\\bigdatauls\\AppData\\Local\\Temp\\ipykernel_31296\\215802589.py:5: SettingWithCopyWarning: \n",
      "A value is trying to be set on a copy of a slice from a DataFrame\n",
      "\n",
      "See the caveats in the documentation: https://pandas.pydata.org/pandas-docs/stable/user_guide/indexing.html#returning-a-view-versus-a-copy\n",
      "  df[\"Habitaciones\"][n] = 3\n",
      "C:\\Users\\bigdatauls\\AppData\\Local\\Temp\\ipykernel_31296\\215802589.py:9: SettingWithCopyWarning: \n",
      "A value is trying to be set on a copy of a slice from a DataFrame\n",
      "\n",
      "See the caveats in the documentation: https://pandas.pydata.org/pandas-docs/stable/user_guide/indexing.html#returning-a-view-versus-a-copy\n",
      "  df[\"Habitaciones\"][n] = 1\n",
      "C:\\Users\\bigdatauls\\AppData\\Local\\Temp\\ipykernel_31296\\215802589.py:7: SettingWithCopyWarning: \n",
      "A value is trying to be set on a copy of a slice from a DataFrame\n",
      "\n",
      "See the caveats in the documentation: https://pandas.pydata.org/pandas-docs/stable/user_guide/indexing.html#returning-a-view-versus-a-copy\n",
      "  df[\"Habitaciones\"][n] = 2\n"
     ]
    }
   ],
   "source": [
    "for n in range(0,len(dfyapo[\"Habitaciones\"]),1):\n",
    "    if dfyapo[\"Habitaciones\"][n] == \"4 o más dormitorios\":\n",
    "        dfyapo[\"Habitaciones\"][n] = 4\n",
    "    elif dfyapo[\"Habitaciones\"][n] == \"3.0\":\n",
    "        dfyapo[\"Habitaciones\"][n] = 3\n",
    "    elif dfyapo[\"Habitaciones\"][n] == \"2.0\":\n",
    "        dfyapo[\"Habitaciones\"][n] = 2\n",
    "    elif dfyapo[\"Habitaciones\"][n] == \"1.0\":\n",
    "        dfyapo[\"Habitaciones\"][n] = 1\n",
    "        "
   ]
  },
  {
   "attachments": {},
   "cell_type": "markdown",
   "metadata": {},
   "source": [
    "<h1>AIRBNB\n",
    "\n"
   ]
  },
  {
   "cell_type": "code",
   "execution_count": 53,
   "metadata": {},
   "outputs": [
    {
     "name": "stdout",
     "output_type": "stream",
     "text": [
      "C:\\Users\\bigdatauls\\Documents\\workspace\\python\\Webscrapper_arriendos\n",
      "C:\\Users\\bigdatauls\\Documents\\workspace\\python\\Webscrapper_arriendos\\Airbnb\\Prueba2\n",
      "['La Serena.csv', 'La Serena10.csv', 'La Serena11.csv', 'La Serena12.csv', 'La Serena13.csv', 'La Serena14.csv', 'La Serena2.csv', 'La Serena3.csv', 'La Serena4.csv', 'La Serena5.csv', 'La Serena6.csv', 'La Serena7.csv', 'La Serena8.csv', 'La Serena9.csv', 'Los Vilos, Coquimbo1.csv', 'Los Vilos, Coquimbo2.csv', 'Los Vilos, Coquimbo3.csv', 'Los Vilos, Coquimbo4.csv', 'Región de Coquimbo, Chile10.csv', 'Región de Coquimbo, Chile100.csv', 'Región de Coquimbo, Chile101.csv', 'Región de Coquimbo, Chile102.csv', 'Región de Coquimbo, Chile103.csv', 'Región de Coquimbo, Chile104.csv', 'Región de Coquimbo, Chile105.csv', 'Región de Coquimbo, Chile106.csv', 'Región de Coquimbo, Chile107.csv', 'Región de Coquimbo, Chile108.csv', 'Región de Coquimbo, Chile109.csv', 'Región de Coquimbo, Chile11.csv', 'Región de Coquimbo, Chile110.csv', 'Región de Coquimbo, Chile111.csv', 'Región de Coquimbo, Chile112.csv', 'Región de Coquimbo, Chile113.csv', 'Región de Coquimbo, Chile114.csv', 'Región de Coquimbo, Chile115.csv', 'Región de Coquimbo, Chile116.csv', 'Región de Coquimbo, Chile117.csv', 'Región de Coquimbo, Chile118.csv', 'Región de Coquimbo, Chile119.csv', 'Región de Coquimbo, Chile12.csv', 'Región de Coquimbo, Chile120.csv', 'Región de Coquimbo, Chile121.csv', 'Región de Coquimbo, Chile122.csv', 'Región de Coquimbo, Chile123.csv', 'Región de Coquimbo, Chile124.csv', 'Región de Coquimbo, Chile125.csv', 'Región de Coquimbo, Chile126.csv', 'Región de Coquimbo, Chile127.csv', 'Región de Coquimbo, Chile128.csv', 'Región de Coquimbo, Chile129.csv', 'Región de Coquimbo, Chile13.csv', 'Región de Coquimbo, Chile130.csv', 'Región de Coquimbo, Chile131.csv', 'Región de Coquimbo, Chile132.csv', 'Región de Coquimbo, Chile133.csv', 'Región de Coquimbo, Chile134.csv', 'Región de Coquimbo, Chile135.csv', 'Región de Coquimbo, Chile136.csv', 'Región de Coquimbo, Chile137.csv', 'Región de Coquimbo, Chile138.csv', 'Región de Coquimbo, Chile139.csv', 'Región de Coquimbo, Chile14.csv', 'Región de Coquimbo, Chile140.csv', 'Región de Coquimbo, Chile141.csv', 'Región de Coquimbo, Chile142.csv', 'Región de Coquimbo, Chile143.csv', 'Región de Coquimbo, Chile144.csv', 'Región de Coquimbo, Chile145.csv', 'Región de Coquimbo, Chile146.csv', 'Región de Coquimbo, Chile147.csv', 'Región de Coquimbo, Chile148.csv', 'Región de Coquimbo, Chile149.csv', 'Región de Coquimbo, Chile15.csv', 'Región de Coquimbo, Chile150.csv', 'Región de Coquimbo, Chile151.csv', 'Región de Coquimbo, Chile152.csv', 'Región de Coquimbo, Chile153.csv', 'Región de Coquimbo, Chile154.csv', 'Región de Coquimbo, Chile155.csv', 'Región de Coquimbo, Chile156.csv', 'Región de Coquimbo, Chile157.csv', 'Región de Coquimbo, Chile158.csv', 'Región de Coquimbo, Chile159.csv', 'Región de Coquimbo, Chile16.csv', 'Región de Coquimbo, Chile160.csv', 'Región de Coquimbo, Chile161.csv', 'Región de Coquimbo, Chile162.csv', 'Región de Coquimbo, Chile163.csv', 'Región de Coquimbo, Chile164.csv', 'Región de Coquimbo, Chile165.csv', 'Región de Coquimbo, Chile166.csv', 'Región de Coquimbo, Chile167.csv', 'Región de Coquimbo, Chile168.csv', 'Región de Coquimbo, Chile169.csv', 'Región de Coquimbo, Chile17.csv', 'Región de Coquimbo, Chile170.csv', 'Región de Coquimbo, Chile171.csv', 'Región de Coquimbo, Chile172.csv', 'Región de Coquimbo, Chile173.csv', 'Región de Coquimbo, Chile174.csv', 'Región de Coquimbo, Chile175.csv', 'Región de Coquimbo, Chile176.csv', 'Región de Coquimbo, Chile177.csv', 'Región de Coquimbo, Chile178.csv', 'Región de Coquimbo, Chile179.csv', 'Región de Coquimbo, Chile18.csv', 'Región de Coquimbo, Chile180.csv', 'Región de Coquimbo, Chile181.csv', 'Región de Coquimbo, Chile182.csv', 'Región de Coquimbo, Chile183.csv', 'Región de Coquimbo, Chile184.csv', 'Región de Coquimbo, Chile185.csv', 'Región de Coquimbo, Chile186.csv', 'Región de Coquimbo, Chile187.csv', 'Región de Coquimbo, Chile188.csv', 'Región de Coquimbo, Chile189.csv', 'Región de Coquimbo, Chile19.csv', 'Región de Coquimbo, Chile190.csv', 'Región de Coquimbo, Chile191.csv', 'Región de Coquimbo, Chile192.csv', 'Región de Coquimbo, Chile193.csv', 'Región de Coquimbo, Chile194.csv', 'Región de Coquimbo, Chile195.csv', 'Región de Coquimbo, Chile196.csv', 'Región de Coquimbo, Chile197.csv', 'Región de Coquimbo, Chile198.csv', 'Región de Coquimbo, Chile199.csv', 'Región de Coquimbo, Chile20.csv', 'Región de Coquimbo, Chile200.csv', 'Región de Coquimbo, Chile201.csv', 'Región de Coquimbo, Chile202.csv', 'Región de Coquimbo, Chile203.csv', 'Región de Coquimbo, Chile204.csv', 'Región de Coquimbo, Chile205.csv', 'Región de Coquimbo, Chile206.csv', 'Región de Coquimbo, Chile207.csv', 'Región de Coquimbo, Chile208.csv', 'Región de Coquimbo, Chile209.csv', 'Región de Coquimbo, Chile21.csv', 'Región de Coquimbo, Chile210.csv', 'Región de Coquimbo, Chile211.csv', 'Región de Coquimbo, Chile212.csv', 'Región de Coquimbo, Chile213.csv', 'Región de Coquimbo, Chile214.csv', 'Región de Coquimbo, Chile215.csv', 'Región de Coquimbo, Chile216.csv', 'Región de Coquimbo, Chile217.csv', 'Región de Coquimbo, Chile218.csv', 'Región de Coquimbo, Chile219.csv', 'Región de Coquimbo, Chile22.csv', 'Región de Coquimbo, Chile220.csv', 'Región de Coquimbo, Chile221.csv', 'Región de Coquimbo, Chile222.csv', 'Región de Coquimbo, Chile223.csv', 'Región de Coquimbo, Chile224.csv', 'Región de Coquimbo, Chile225.csv', 'Región de Coquimbo, Chile226.csv', 'Región de Coquimbo, Chile227.csv', 'Región de Coquimbo, Chile228.csv', 'Región de Coquimbo, Chile229.csv', 'Región de Coquimbo, Chile23.csv', 'Región de Coquimbo, Chile230.csv', 'Región de Coquimbo, Chile231.csv', 'Región de Coquimbo, Chile232.csv', 'Región de Coquimbo, Chile233.csv', 'Región de Coquimbo, Chile234.csv', 'Región de Coquimbo, Chile235.csv', 'Región de Coquimbo, Chile236.csv', 'Región de Coquimbo, Chile237.csv', 'Región de Coquimbo, Chile238.csv', 'Región de Coquimbo, Chile239.csv', 'Región de Coquimbo, Chile24.csv', 'Región de Coquimbo, Chile240.csv', 'Región de Coquimbo, Chile241.csv', 'Región de Coquimbo, Chile242.csv', 'Región de Coquimbo, Chile243.csv', 'Región de Coquimbo, Chile244.csv', 'Región de Coquimbo, Chile245.csv', 'Región de Coquimbo, Chile246.csv', 'Región de Coquimbo, Chile247.csv', 'Región de Coquimbo, Chile248.csv', 'Región de Coquimbo, Chile249.csv', 'Región de Coquimbo, Chile25.csv', 'Región de Coquimbo, Chile250.csv', 'Región de Coquimbo, Chile251.csv', 'Región de Coquimbo, Chile252.csv', 'Región de Coquimbo, Chile253.csv', 'Región de Coquimbo, Chile254.csv', 'Región de Coquimbo, Chile255.csv', 'Región de Coquimbo, Chile256.csv', 'Región de Coquimbo, Chile257.csv', 'Región de Coquimbo, Chile258.csv', 'Región de Coquimbo, Chile259.csv', 'Región de Coquimbo, Chile26.csv', 'Región de Coquimbo, Chile260.csv', 'Región de Coquimbo, Chile261.csv', 'Región de Coquimbo, Chile262.csv', 'Región de Coquimbo, Chile263.csv', 'Región de Coquimbo, Chile27.csv', 'Región de Coquimbo, Chile28.csv', 'Región de Coquimbo, Chile29.csv', 'Región de Coquimbo, Chile30.csv', 'Región de Coquimbo, Chile31.csv', 'Región de Coquimbo, Chile32.csv', 'Región de Coquimbo, Chile33.csv', 'Región de Coquimbo, Chile34.csv', 'Región de Coquimbo, Chile35.csv', 'Región de Coquimbo, Chile36.csv', 'Región de Coquimbo, Chile37.csv', 'Región de Coquimbo, Chile38.csv', 'Región de Coquimbo, Chile39.csv', 'Región de Coquimbo, Chile40.csv', 'Región de Coquimbo, Chile41.csv', 'Región de Coquimbo, Chile42.csv', 'Región de Coquimbo, Chile43.csv', 'Región de Coquimbo, Chile44.csv', 'Región de Coquimbo, Chile45.csv', 'Región de Coquimbo, Chile46.csv', 'Región de Coquimbo, Chile47.csv', 'Región de Coquimbo, Chile48.csv', 'Región de Coquimbo, Chile49.csv', 'Región de Coquimbo, Chile50.csv', 'Región de Coquimbo, Chile51.csv', 'Región de Coquimbo, Chile52.csv', 'Región de Coquimbo, Chile53.csv', 'Región de Coquimbo, Chile54.csv', 'Región de Coquimbo, Chile55.csv', 'Región de Coquimbo, Chile56.csv', 'Región de Coquimbo, Chile57.csv', 'Región de Coquimbo, Chile58.csv', 'Región de Coquimbo, Chile59.csv', 'Región de Coquimbo, Chile60.csv', 'Región de Coquimbo, Chile61.csv', 'Región de Coquimbo, Chile62.csv', 'Región de Coquimbo, Chile63.csv', 'Región de Coquimbo, Chile64.csv', 'Región de Coquimbo, Chile65.csv', 'Región de Coquimbo, Chile66.csv', 'Región de Coquimbo, Chile67.csv', 'Región de Coquimbo, Chile68.csv', 'Región de Coquimbo, Chile69.csv', 'Región de Coquimbo, Chile70.csv', 'Región de Coquimbo, Chile71.csv', 'Región de Coquimbo, Chile72.csv', 'Región de Coquimbo, Chile73.csv', 'Región de Coquimbo, Chile74.csv', 'Región de Coquimbo, Chile75.csv', 'Región de Coquimbo, Chile76.csv', 'Región de Coquimbo, Chile77.csv', 'Región de Coquimbo, Chile78.csv', 'Región de Coquimbo, Chile79.csv', 'Región de Coquimbo, Chile80.csv', 'Región de Coquimbo, Chile81.csv', 'Región de Coquimbo, Chile82.csv', 'Región de Coquimbo, Chile83.csv', 'Región de Coquimbo, Chile84.csv', 'Región de Coquimbo, Chile85.csv', 'Región de Coquimbo, Chile86.csv', 'Región de Coquimbo, Chile87.csv', 'Región de Coquimbo, Chile88.csv', 'Región de Coquimbo, Chile89.csv', 'Región de Coquimbo, Chile9.csv', 'Región de Coquimbo, Chile90.csv', 'Región de Coquimbo, Chile91.csv', 'Región de Coquimbo, Chile92.csv', 'Región de Coquimbo, Chile93.csv', 'Región de Coquimbo, Chile94.csv', 'Región de Coquimbo, Chile95.csv', 'Región de Coquimbo, Chile96.csv', 'Región de Coquimbo, Chile97.csv', 'Región de Coquimbo, Chile98.csv', 'Región de Coquimbo, Chile99.csv', 'Región de Coquimbo1.csv', 'Región de Coquimbo2.csv', 'Región de Coquimbo3.csv', 'Región de Coquimbo4.csv', 'Región de Coquimbo5.csv', 'Región de Coquimbo6.csv', 'Región de Coquimbo7.csv', 'Región de Coquimbo8.csv']\n"
     ]
    }
   ],
   "source": [
    "dir_path = os.path.dirname(os.path.realpath(\"__file__\"))\n",
    "print(dir_path)\n",
    "folderpath = \"Airbnb\"\n",
    "#folderpath = \"Yapo\\porpag\"\n",
    "folderpath = os.path.join(dir_path, folderpath, \"Prueba2\")\n",
    "print(folderpath)\n",
    "files = os.listdir(folderpath)\n",
    "print(files)\n",
    "\n",
    "paths = []\n",
    "for file in files:\n",
    "    path = os.path.join(folderpath, file)\n",
    "    if os.path.isfile(path):\n",
    "        paths.append(path)\n",
    "\n",
    "df = pd.DataFrame()\n",
    "for file in paths:\n",
    "    dftemp = pd.read_csv(file)\n",
    "    #dftemp = dftemp.drop(\"Unnamed: 0\", axis =1)\n",
    "    df = pd.concat([df, dftemp])\n",
    "\n",
    "dfairbnb = df.reset_index()\n",
    "#df.to_csv(os.path.join(dir_path,\"Marketplace\",\"Df_Total.csv\"))"
   ]
  },
  {
   "cell_type": "code",
   "execution_count": 55,
   "metadata": {},
   "outputs": [
    {
     "data": {
      "text/plain": [
       "Index(['Unnamed: 0', 'Titulo1', 'Titulo2', 'Comuna', 'Region', 'Capacidad',\n",
       "       'Camas', 'N_Habitaciones', 'Habitaciones', 'Baños', 'Tipo_Baños',\n",
       "       'Precio', 'lat', 'lon', 'Ubicacion', 'Ubides', 'Descripcion',\n",
       "       'Servicios', 'Nota', 'Nnota', 'Anfitrion', 'Registro', 'Link'],\n",
       "      dtype='object')"
      ]
     },
     "execution_count": 55,
     "metadata": {},
     "output_type": "execute_result"
    }
   ],
   "source": [
    "dflosvilos = pd.read_csv(os.path.join(folderpath, \"Los Vilos, Coquimbo4.csv\"))\n",
    "dflosvilos.columns"
   ]
  },
  {
   "cell_type": "code",
   "execution_count": 42,
   "metadata": {},
   "outputs": [
    {
     "data": {
      "text/plain": [
       "(37936, 24)"
      ]
     },
     "execution_count": 42,
     "metadata": {},
     "output_type": "execute_result"
    }
   ],
   "source": [
    "dfairbnb.shape"
   ]
  },
  {
   "cell_type": "code",
   "execution_count": 41,
   "metadata": {},
   "outputs": [
    {
     "data": {
      "text/plain": [
       "Index(['index', 'Unnamed: 0', 'Titulo1', 'Titulo2', 'Comuna', 'Capacidad',\n",
       "       'Camas', 'N_Habitaciones', 'Habitaciones', 'Baños', 'Tipo_Baños',\n",
       "       'Precio', 'lat', 'lon', 'Ubicacion', 'Ubides', 'Descripción',\n",
       "       'Servicios', 'Nota', 'Nnota', 'Anfitrion', 'Registro', 'Link',\n",
       "       'Descripcion'],\n",
       "      dtype='object')"
      ]
     },
     "execution_count": 41,
     "metadata": {},
     "output_type": "execute_result"
    }
   ],
   "source": [
    "dfairbnb.columns"
   ]
  },
  {
   "cell_type": "code",
   "execution_count": 43,
   "metadata": {},
   "outputs": [
    {
     "data": {
      "text/html": [
       "<div>\n",
       "<style scoped>\n",
       "    .dataframe tbody tr th:only-of-type {\n",
       "        vertical-align: middle;\n",
       "    }\n",
       "\n",
       "    .dataframe tbody tr th {\n",
       "        vertical-align: top;\n",
       "    }\n",
       "\n",
       "    .dataframe thead th {\n",
       "        text-align: right;\n",
       "    }\n",
       "</style>\n",
       "<table border=\"1\" class=\"dataframe\">\n",
       "  <thead>\n",
       "    <tr style=\"text-align: right;\">\n",
       "      <th></th>\n",
       "      <th>index</th>\n",
       "      <th>Unnamed: 0</th>\n",
       "      <th>Titulo1</th>\n",
       "      <th>Titulo2</th>\n",
       "      <th>Comuna</th>\n",
       "      <th>Capacidad</th>\n",
       "      <th>Camas</th>\n",
       "      <th>N_Habitaciones</th>\n",
       "      <th>Habitaciones</th>\n",
       "      <th>Baños</th>\n",
       "      <th>...</th>\n",
       "      <th>Ubicacion</th>\n",
       "      <th>Ubides</th>\n",
       "      <th>Descripción</th>\n",
       "      <th>Servicios</th>\n",
       "      <th>Nota</th>\n",
       "      <th>Nnota</th>\n",
       "      <th>Anfitrion</th>\n",
       "      <th>Registro</th>\n",
       "      <th>Link</th>\n",
       "      <th>Descripcion</th>\n",
       "    </tr>\n",
       "  </thead>\n",
       "  <tbody>\n",
       "    <tr>\n",
       "      <th>0</th>\n",
       "      <td>0</td>\n",
       "      <td>0.0</td>\n",
       "      <td>Casa con piscina frente Bahía la Herradura 👍🏼 ...</td>\n",
       "      <td>Casa de huéspedes entero</td>\n",
       "      <td>Coquimbo</td>\n",
       "      <td>10</td>\n",
       "      <td>8</td>\n",
       "      <td>4</td>\n",
       "      <td>Habitación</td>\n",
       "      <td>3</td>\n",
       "      <td>...</td>\n",
       "      <td>https://maps.google.com/maps?ll=-29.97578,-71....</td>\n",
       "      <td>Barrio residencial muy seguro. Cerca de playa ...</td>\n",
       "      <td>Maravillosa casa con piscina (desde octubre) f...</td>\n",
       "      <td>['Vista a la bahía']</td>\n",
       "      <td>4.62</td>\n",
       "      <td>34.0</td>\n",
       "      <td>Viviana Sarella</td>\n",
       "      <td>08-2017</td>\n",
       "      <td>https://www.airbnb.cl/rooms/31208702?adults=1&amp;...</td>\n",
       "      <td>NaN</td>\n",
       "    </tr>\n",
       "    <tr>\n",
       "      <th>1</th>\n",
       "      <td>1</td>\n",
       "      <td>1.0</td>\n",
       "      <td>Arriendo mi segundo piso, entrada independiente</td>\n",
       "      <td>Casa de huéspedes entero</td>\n",
       "      <td>Coquimbo</td>\n",
       "      <td>10</td>\n",
       "      <td>7</td>\n",
       "      <td>4</td>\n",
       "      <td>Habitación</td>\n",
       "      <td>2</td>\n",
       "      <td>...</td>\n",
       "      <td>https://maps.google.com/maps?ll=-29.95597,-71....</td>\n",
       "      <td>Es un barrio residencial y tranquilo.</td>\n",
       "      <td>Alojamiento ubicado en el límite de la ciudade...</td>\n",
       "      <td>['Acceso la playa Público o compartido']</td>\n",
       "      <td>4.77</td>\n",
       "      <td>13.0</td>\n",
       "      <td>Jorge</td>\n",
       "      <td>01-2019</td>\n",
       "      <td>https://www.airbnb.cl/rooms/533118717654437416...</td>\n",
       "      <td>NaN</td>\n",
       "    </tr>\n",
       "    <tr>\n",
       "      <th>2</th>\n",
       "      <td>2</td>\n",
       "      <td>2.0</td>\n",
       "      <td>Casa para Huéspedes</td>\n",
       "      <td>Casa de huéspedes entero</td>\n",
       "      <td>Coquimbo</td>\n",
       "      <td>6</td>\n",
       "      <td>5</td>\n",
       "      <td>3</td>\n",
       "      <td>Habitación</td>\n",
       "      <td>2</td>\n",
       "      <td>...</td>\n",
       "      <td>https://maps.google.com/maps?ll=-29.98605,-71....</td>\n",
       "      <td>Vecindario Residencial, Silencioso. Se puede a...</td>\n",
       "      <td>Relájate con   la familia en este tranquilo y ...</td>\n",
       "      <td>['Vista al patio']</td>\n",
       "      <td>NaN</td>\n",
       "      <td>NaN</td>\n",
       "      <td>Juan</td>\n",
       "      <td>03-2013</td>\n",
       "      <td>https://www.airbnb.cl/rooms/807185136401739069...</td>\n",
       "      <td>NaN</td>\n",
       "    </tr>\n",
       "    <tr>\n",
       "      <th>3</th>\n",
       "      <td>3</td>\n",
       "      <td>3.0</td>\n",
       "      <td>Guanaqueros, Campo y mar</td>\n",
       "      <td>Habitación privada en casa de huéspedes</td>\n",
       "      <td>Guanaqueros</td>\n",
       "      <td>8</td>\n",
       "      <td>5</td>\n",
       "      <td>4</td>\n",
       "      <td>Habitación</td>\n",
       "      <td>2</td>\n",
       "      <td>...</td>\n",
       "      <td>https://maps.google.com/maps?ll=-30.2103,-71.3...</td>\n",
       "      <td>NaN</td>\n",
       "      <td>Lleva a toda la familia a este fantástico luga...</td>\n",
       "      <td>['Cocina']</td>\n",
       "      <td>NaN</td>\n",
       "      <td>NaN</td>\n",
       "      <td>Nelson</td>\n",
       "      <td>01-2023</td>\n",
       "      <td>https://www.airbnb.cl/rooms/811039120797830605...</td>\n",
       "      <td>NaN</td>\n",
       "    </tr>\n",
       "    <tr>\n",
       "      <th>4</th>\n",
       "      <td>4</td>\n",
       "      <td>4.0</td>\n",
       "      <td>Casa acogedora en la comunidad ecológica el Panul</td>\n",
       "      <td>Casa de huéspedes entero</td>\n",
       "      <td>Coquimbo</td>\n",
       "      <td>15</td>\n",
       "      <td>11</td>\n",
       "      <td>5</td>\n",
       "      <td>Habitación</td>\n",
       "      <td>2</td>\n",
       "      <td>...</td>\n",
       "      <td>https://maps.google.com/maps?ll=-29.98889,-71....</td>\n",
       "      <td>NaN</td>\n",
       "      <td>Desconecta y re conecta en este alojamiento ún...</td>\n",
       "      <td>['Cocina']</td>\n",
       "      <td>4.80</td>\n",
       "      <td>5.0</td>\n",
       "      <td>Carlos Dixon</td>\n",
       "      <td>07-2021</td>\n",
       "      <td>https://www.airbnb.cl/rooms/51319329?adults=1&amp;...</td>\n",
       "      <td>NaN</td>\n",
       "    </tr>\n",
       "  </tbody>\n",
       "</table>\n",
       "<p>5 rows × 24 columns</p>\n",
       "</div>"
      ],
      "text/plain": [
       "   index  Unnamed: 0                                            Titulo1  \\\n",
       "0      0         0.0  Casa con piscina frente Bahía la Herradura 👍🏼 ...   \n",
       "1      1         1.0    Arriendo mi segundo piso, entrada independiente   \n",
       "2      2         2.0                                Casa para Huéspedes   \n",
       "3      3         3.0                           Guanaqueros, Campo y mar   \n",
       "4      4         4.0  Casa acogedora en la comunidad ecológica el Panul   \n",
       "\n",
       "                                   Titulo2       Comuna Capacidad  Camas  \\\n",
       "0                 Casa de huéspedes entero     Coquimbo        10      8   \n",
       "1                 Casa de huéspedes entero     Coquimbo        10      7   \n",
       "2                 Casa de huéspedes entero     Coquimbo         6      5   \n",
       "3  Habitación privada en casa de huéspedes  Guanaqueros         8      5   \n",
       "4                 Casa de huéspedes entero     Coquimbo        15     11   \n",
       "\n",
       "   N_Habitaciones Habitaciones Baños  ...  \\\n",
       "0               4   Habitación     3  ...   \n",
       "1               4   Habitación     2  ...   \n",
       "2               3   Habitación     2  ...   \n",
       "3               4   Habitación     2  ...   \n",
       "4               5   Habitación     2  ...   \n",
       "\n",
       "                                           Ubicacion  \\\n",
       "0  https://maps.google.com/maps?ll=-29.97578,-71....   \n",
       "1  https://maps.google.com/maps?ll=-29.95597,-71....   \n",
       "2  https://maps.google.com/maps?ll=-29.98605,-71....   \n",
       "3  https://maps.google.com/maps?ll=-30.2103,-71.3...   \n",
       "4  https://maps.google.com/maps?ll=-29.98889,-71....   \n",
       "\n",
       "                                              Ubides  \\\n",
       "0  Barrio residencial muy seguro. Cerca de playa ...   \n",
       "1              Es un barrio residencial y tranquilo.   \n",
       "2  Vecindario Residencial, Silencioso. Se puede a...   \n",
       "3                                                NaN   \n",
       "4                                                NaN   \n",
       "\n",
       "                                         Descripción  \\\n",
       "0  Maravillosa casa con piscina (desde octubre) f...   \n",
       "1  Alojamiento ubicado en el límite de la ciudade...   \n",
       "2  Relájate con   la familia en este tranquilo y ...   \n",
       "3  Lleva a toda la familia a este fantástico luga...   \n",
       "4  Desconecta y re conecta en este alojamiento ún...   \n",
       "\n",
       "                                  Servicios  Nota Nnota        Anfitrion  \\\n",
       "0                      ['Vista a la bahía']  4.62  34.0  Viviana Sarella   \n",
       "1  ['Acceso la playa Público o compartido']  4.77  13.0            Jorge   \n",
       "2                        ['Vista al patio']   NaN   NaN             Juan   \n",
       "3                                ['Cocina']   NaN   NaN           Nelson   \n",
       "4                                ['Cocina']  4.80   5.0     Carlos Dixon   \n",
       "\n",
       "  Registro                                               Link  Descripcion  \n",
       "0  08-2017  https://www.airbnb.cl/rooms/31208702?adults=1&...          NaN  \n",
       "1  01-2019  https://www.airbnb.cl/rooms/533118717654437416...          NaN  \n",
       "2  03-2013  https://www.airbnb.cl/rooms/807185136401739069...          NaN  \n",
       "3  01-2023  https://www.airbnb.cl/rooms/811039120797830605...          NaN  \n",
       "4  07-2021  https://www.airbnb.cl/rooms/51319329?adults=1&...          NaN  \n",
       "\n",
       "[5 rows x 24 columns]"
      ]
     },
     "execution_count": 43,
     "metadata": {},
     "output_type": "execute_result"
    }
   ],
   "source": [
    "dfairbnb.head()"
   ]
  },
  {
   "cell_type": "code",
   "execution_count": 5,
   "metadata": {},
   "outputs": [
    {
     "data": {
      "text/plain": [
       "(3264, 23)"
      ]
     },
     "execution_count": 5,
     "metadata": {},
     "output_type": "execute_result"
    }
   ],
   "source": [
    "dfairbnb1 = dfairbnb.drop_duplicates(['Comuna', 'Camas', 'Baños', 'Capacidad', 'Habitaciones', 'Anfitrion', 'Descripción'], keep='last')\n",
    "dfairbnb1.shape"
   ]
  },
  {
   "cell_type": "code",
   "execution_count": 59,
   "metadata": {},
   "outputs": [
    {
     "data": {
      "text/plain": [
       "(3095, 25)"
      ]
     },
     "execution_count": 59,
     "metadata": {},
     "output_type": "execute_result"
    }
   ],
   "source": [
    "dfairbnb2 = dfairbnb.drop_duplicates(['Ubicacion'], keep='last')\n",
    "dfairbnb2.shape"
   ]
  },
  {
   "cell_type": "code",
   "execution_count": 56,
   "metadata": {},
   "outputs": [
    {
     "data": {
      "text/plain": [
       "(3276, 26)"
      ]
     },
     "execution_count": 56,
     "metadata": {},
     "output_type": "execute_result"
    }
   ],
   "source": [
    "dfairbnb3 = dfairbnb.drop_duplicates(['Comuna', 'Baños', 'Habitaciones','Anfitrion','Ubicacion'], keep='last').reset_index()\n",
    "dfairbnb3.shape"
   ]
  },
  {
   "cell_type": "code",
   "execution_count": 8,
   "metadata": {},
   "outputs": [
    {
     "data": {
      "text/plain": [
       "(3153, 23)"
      ]
     },
     "execution_count": 8,
     "metadata": {},
     "output_type": "execute_result"
    }
   ],
   "source": [
    "dfairbnb4 = dfairbnb.drop_duplicates(['Comuna', 'Baños', 'Habitaciones','Anfitrion','Ubicacion','Descripción'], keep='last')\n",
    "dfairbnb4.shape"
   ]
  },
  {
   "attachments": {},
   "cell_type": "markdown",
   "metadata": {},
   "source": [
    "Nota: Método de 3 de filtrado pareciese ser el más efectivo. Queda duda: ¿Qué pasa si un mismo anfitrión tiene más de un dpto en una misma dirección?"
   ]
  },
  {
   "cell_type": "code",
   "execution_count": 57,
   "metadata": {},
   "outputs": [
    {
     "name": "stdout",
     "output_type": "stream",
     "text": [
      "<class 'pandas.core.frame.DataFrame'>\n",
      "RangeIndex: 3276 entries, 0 to 3275\n",
      "Data columns (total 26 columns):\n",
      " #   Column          Non-Null Count  Dtype  \n",
      "---  ------          --------------  -----  \n",
      " 0   level_0         3276 non-null   int64  \n",
      " 1   index           3276 non-null   int64  \n",
      " 2   Unnamed: 0      3276 non-null   int64  \n",
      " 3   Titulo1         3276 non-null   object \n",
      " 4   Titulo2         3276 non-null   object \n",
      " 5   Comuna          3276 non-null   object \n",
      " 6   Capacidad       3276 non-null   object \n",
      " 7   Camas           3276 non-null   int64  \n",
      " 8   N_Habitaciones  3276 non-null   int64  \n",
      " 9   Habitaciones    3276 non-null   object \n",
      " 10  Baños           3276 non-null   object \n",
      " 11  Tipo_Baños      3276 non-null   object \n",
      " 12  Precio          3276 non-null   object \n",
      " 13  lat             3276 non-null   float64\n",
      " 14  lon             3276 non-null   float64\n",
      " 15  Ubicacion       3276 non-null   object \n",
      " 16  Ubides          1712 non-null   object \n",
      " 17  Descripción     22 non-null     object \n",
      " 18  Servicios       3276 non-null   object \n",
      " 19  Nota            2112 non-null   float64\n",
      " 20  Nnota           2112 non-null   float64\n",
      " 21  Anfitrion       3276 non-null   object \n",
      " 22  Registro        3276 non-null   object \n",
      " 23  Link            3276 non-null   object \n",
      " 24  Descripcion     3166 non-null   object \n",
      " 25  Region          168 non-null    object \n",
      "dtypes: float64(4), int64(5), object(17)\n",
      "memory usage: 665.6+ KB\n"
     ]
    }
   ],
   "source": [
    "dfairbnb3.info()"
   ]
  },
  {
   "attachments": {},
   "cell_type": "markdown",
   "metadata": {},
   "source": [
    "Nota: No hay valores, null. Puede ser por la estructura de airbnb"
   ]
  },
  {
   "cell_type": "code",
   "execution_count": 70,
   "metadata": {},
   "outputs": [
    {
     "name": "stdout",
     "output_type": "stream",
     "text": [
      "DATOS COLUMNA  Capacidad\n",
      "5            682\n",
      "6            594\n",
      "4            514\n",
      "6            257\n",
      "8            165\n",
      "8            163\n",
      "7            145\n",
      "5            134\n",
      "4            133\n",
      "7             78\n",
      "10            77\n",
      "10            67\n",
      "12            42\n",
      "9             36\n",
      "9             33\n",
      "3             27\n",
      "11            22\n",
      "Más de 16     15\n",
      "12            13\n",
      "3             11\n",
      "2             11\n",
      "14            10\n",
      "11             9\n",
      "13             8\n",
      "2              8\n",
      "15             8\n",
      "1              7\n",
      "15             3\n",
      "14             2\n",
      "13             1\n",
      "1              1\n",
      "Name: Capacidad, dtype: int64\n",
      "None\n"
     ]
    }
   ],
   "source": [
    "print(unicos_columna(dfairbnb3, 6))"
   ]
  },
  {
   "attachments": {},
   "cell_type": "markdown",
   "metadata": {},
   "source": [
    " 1   Link          \n",
    " 2   Comuna        Comunas repetidas con distintos nombres, solo primer valor indica comuna, segundo region (split)\n",
    " 3   Camas         Eliminar \"camas\" para que quede solo valor numérico. Error entre camas, baños, habitaciones, y capacidad. Cuenta con un html variable. Debe ser re-probado.\n",
    " 4   Baños         Eliminar \"baños\" / clasificar entre baños compartidos -> 2 columnas, una de tipo y otra de cantidad\n",
    " 5   Capacidad     \n",
    " 6   Habitaciones  Requiere cambio de formato, e incluir valor \"Estudio\" -> Hacer columna, con el dato numérico. Estudio -> 1\n",
    " 7   Precio        Requiere limpieza y error: Html Variable cuando hay promociones. Cuando sale vacío es que no se puede ver el precio (está bien)\n",
    " 8   Nota          Requiere formateo\n",
    " 9   Nnota         Requiere formateo\n",
    " 10  Descripción   Hay varias descripciones duplicadas, pero viéndolas de cerca no pareciesen ser valores duplicados. Requiere su revisión\n",
    " 11  Titulo1       \n",
    " 12  Titulo2       \n",
    " 13  Servicios     Aparecen como WebElement, requiere corrección\n",
    " 14  Anfitrion     Algunos anfitriones tienen varias propiedades, habría que entrar a revisar\n",
    " 15  Registro      \n",
    " 16  Ubides        algunos duplicados\n",
    " 17  Ubicacion     Hay algunas ubicaciones duplicadas, habría que entrar a revisar si son o no -> Hacer dos columnas más una de latitud y otra long\n",
    " 18  Tipo          Vacío"
   ]
  },
  {
   "cell_type": "code",
   "execution_count": 85,
   "metadata": {},
   "outputs": [
    {
     "name": "stdout",
     "output_type": "stream",
     "text": [
      "19871\n"
     ]
    }
   ],
   "source": [
    "x = dfairbnb3[\"Capacidad\"].replace(\"Más de \", \"\")\n",
    "suma = 0\n",
    "for n in dfairbnb3[\"Capacidad\"]:\n",
    "    if type(n) == str:\n",
    "        suma = suma + int(n.replace(\"Más de \", \"\"))\n",
    "    elif type(n) == int: \n",
    "        suma = suma + n\n",
    "print(suma)"
   ]
  },
  {
   "cell_type": "code",
   "execution_count": 65,
   "metadata": {},
   "outputs": [
    {
     "name": "stdout",
     "output_type": "stream",
     "text": [
      "<class 'int'>\n",
      "hi\n"
     ]
    }
   ],
   "source": [
    "print(type(dfairbnb3[\"Capacidad\"][0]))\n",
    "print(\"hi\")"
   ]
  },
  {
   "cell_type": "code",
   "execution_count": null,
   "metadata": {},
   "outputs": [],
   "source": []
  },
  {
   "cell_type": "code",
   "execution_count": 66,
   "metadata": {},
   "outputs": [
    {
     "name": "stdout",
     "output_type": "stream",
     "text": [
      "<class 'int'>\n",
      "hi\n"
     ]
    }
   ],
   "source": [
    "print(type(dfairbnb3[\"Capacidad\"][0]))\n",
    "print(\"hi\")"
   ]
  },
  {
   "cell_type": "code",
   "execution_count": null,
   "metadata": {},
   "outputs": [],
   "source": []
  },
  {
   "attachments": {},
   "cell_type": "markdown",
   "metadata": {},
   "source": [
    "OPERA VPN"
   ]
  },
  {
   "attachments": {},
   "cell_type": "markdown",
   "metadata": {},
   "source": [
    "OPERA VPN"
   ]
  },
  {
   "cell_type": "code",
   "execution_count": 18,
   "metadata": {},
   "outputs": [
    {
     "name": "stdout",
     "output_type": "stream",
     "text": [
      "77.111.246.9\n",
      "2001:67c:2628:647:5::7a\n",
      "77.111.246.10\n",
      "2001:67c:2628:647:6::7a\n",
      "77.111.246.4\n",
      "2001:67c:2628:647:f::7a\n",
      "77.111.246.8\n",
      "2001:67c:2628:647:4::7a\n",
      "77.111.246.31\n",
      "2001:67c:2628:647:11::241\n"
     ]
    }
   ],
   "source": [
    "### Funcionando con el virtualenv de webscrapper_arriendos y selenium 3.4\n",
    "\n",
    "from selenium import webdriver\n",
    "import time\n",
    "from selenium.webdriver.chrome import service\n",
    "from selenium.webdriver.opera import options as operaopt\n",
    "import selenium\n",
    "#selenium(help)\n",
    "# The profile where I enabled the VPN previously using the GUI.\n",
    "opera_profile = r'C:\\Users\\bigdatauls\\AppData\\Roaming\\Opera Software\\Opera Stable' \n",
    "options = operaopt.ChromeOptions()\n",
    "#options.binary_location = r'C:\\Users\\bigdatauls\\AppData\\Local\\Programs\\Opera\\launcher.exe'\n",
    "options.add_argument('user-data-dir=' + opera_profile)\n",
    "\n",
    "#webdriver_service = service.Service(r'C:\\Users\\bigdatauls\\Downloads\\operadriver_win64\\operadriver_win64\\operadriver.exe')\n",
    "#webdriver_service.start()\n",
    "#driver = webdriver.Remote(webdriver_service.service_url, webdriver.DesiredCapabilities.OPERA)\n",
    "\n",
    "for n in range(0,5,1):\n",
    "    driver = webdriver.Opera(opera_options = options, executable_path=r'C:\\Users\\bigdatauls\\Downloads\\operadriver_win64\\operadriver_win64\\operadriver.exe')\n",
    "\n",
    "    time.sleep(1)\n",
    "    driver.get('https://whatismyipaddress.com')\n",
    "    time.sleep(2)\n",
    "    print(driver.find_element_by_xpath('//*[@id=\"ipv4\"]/a').text)\n",
    "    time.sleep(1)\n",
    "    print(driver.find_element_by_xpath('//*[@id=\"ipv6\"]').text)\n",
    "    driver.quit()\n",
    "    time.sleep(1)\n"
   ]
  },
  {
   "cell_type": "code",
   "execution_count": 19,
   "metadata": {},
   "outputs": [],
   "source": [
    "driver = webdriver.Opera(opera_options = options, executable_path=r'C:\\Users\\bigdatauls\\Downloads\\operadriver_win64\\operadriver_win64\\operadriver.exe')"
   ]
  },
  {
   "cell_type": "code",
   "execution_count": 13,
   "metadata": {},
   "outputs": [
    {
     "name": "stdout",
     "output_type": "stream",
     "text": [
      "Abriendo WebDriver\n"
     ]
    }
   ],
   "source": [
    "from selenium import webdriver\n",
    "from selenium.webdriver.common.by import By\n",
    "import time\n",
    "from selenium.webdriver.chrome.options import Options ### CONFIGURADO CON EDGE\n",
    "import pandas as pd\n",
    "from datetime import datetime, timedelta\n",
    "from selenium.webdriver.support.ui import WebDriverWait\n",
    "from selenium.webdriver.support import expected_conditions as EC\n",
    "from selenium.webdriver.common.action_chains import ActionChains\n",
    "from selenium.webdriver.common.keys import Keys\n",
    "from selenium.common.exceptions import TimeoutException, NoSuchElementException\n",
    "from selenium.webdriver.common.proxy import Proxy, ProxyType\n",
    "#import cv2\n",
    "#import pytesseract\n",
    "import base64\n",
    "import numpy as np\n",
    "import os\n",
    "import random\n",
    "import re\n",
    "\n",
    "import selenium\n",
    "\n",
    "options = Options()\n",
    "options.add_experimental_option(\"excludeSwitches\", [\"enable-logging\"])\n",
    "options.add_argument(\"--disable-notifications\")\n",
    "PROXY = \"18.212.74.224:3128\"  \n",
    "options.add_argument('--proxy-server=%s' % PROXY)\n",
    "\n",
    "def opendriver(options):\n",
    "    driver = webdriver.Chrome(options=options)#, capabilities=capabilities)\n",
    "    time.sleep(1)\n",
    "    driver.maximize_window()\n",
    "    print(\"Abriendo WebDriver\")\n",
    "    time.sleep(2)\n",
    "    return driver\n",
    "\n",
    "driver = opendriver(options)\n",
    "time.sleep(1)\n",
    "driver.get(\"https://whatismyipaddress.com/es/mi-ip\")\n"
   ]
  },
  {
   "cell_type": "code",
   "execution_count": null,
   "metadata": {},
   "outputs": [],
   "source": []
  }
 ],
 "metadata": {
  "kernelspec": {
   "display_name": "Python 3",
   "language": "python",
   "name": "python3"
  },
  "language_info": {
   "codemirror_mode": {
    "name": "ipython",
    "version": 3
   },
   "file_extension": ".py",
   "mimetype": "text/x-python",
   "name": "python",
   "nbconvert_exporter": "python",
   "pygments_lexer": "ipython3",
   "version": "3.11.1"
  },
  "orig_nbformat": 4,
  "vscode": {
   "interpreter": {
    "hash": "8dbbfd8c4b4296a8c7559728cf01a1684c234e8ede3b88a4f34543b1415c1c34"
   }
  }
 },
 "nbformat": 4,
 "nbformat_minor": 2
}
