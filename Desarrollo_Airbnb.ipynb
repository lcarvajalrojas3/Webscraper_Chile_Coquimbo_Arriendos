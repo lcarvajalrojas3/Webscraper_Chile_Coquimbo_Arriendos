{
 "cells": [
  {
   "cell_type": "code",
   "execution_count": 1,
   "metadata": {},
   "outputs": [],
   "source": [
    "from selenium import webdriver\n",
    "from selenium.webdriver.common.by import By\n",
    "import time\n",
    "from selenium.webdriver.chrome.options import Options ### CONFIGURADO CON EDGE\n",
    "import pandas as pd\n",
    "from datetime import datetime, timedelta\n",
    "from selenium.webdriver.support.ui import WebDriverWait\n",
    "from selenium.webdriver.support import expected_conditions as EC\n",
    "from selenium.webdriver.common.keys import Keys\n",
    "#import cv2\n",
    "#import pytesseract\n",
    "import base64\n",
    "import numpy as np\n",
    "import os\n",
    "import random\n",
    "import string"
   ]
  },
  {
   "cell_type": "code",
   "execution_count": 95,
   "metadata": {},
   "outputs": [],
   "source": [
    "def unicos_columna(df, numero):\n",
    "    print(\"DATOS COLUMNA \", df.columns[numero])\n",
    "    print(df[df.columns[numero]].value_counts()) "
   ]
  },
  {
   "cell_type": "code",
   "execution_count": 96,
   "metadata": {},
   "outputs": [
    {
     "name": "stdout",
     "output_type": "stream",
     "text": [
      "Abriendo WebDriver\n"
     ]
    }
   ],
   "source": [
    "options = Options()\n",
    "options.add_experimental_option(\"excludeSwitches\", [\"enable-logging\"])\n",
    "options.add_argument(\"--disable-notifications\")\n",
    "\n",
    "def opendriver(options):\n",
    "    driver = webdriver.Chrome(options=options)\n",
    "    time.sleep(2)\n",
    "    driver.maximize_window()\n",
    "    print(\"Abriendo WebDriver\")\n",
    "    time.sleep(2)\n",
    "    return driver\n",
    "\n",
    "driver = opendriver(options)"
   ]
  },
  {
   "cell_type": "markdown",
   "metadata": {},
   "source": []
  },
  {
   "cell_type": "code",
   "execution_count": 97,
   "metadata": {},
   "outputs": [
    {
     "name": "stdout",
     "output_type": "stream",
     "text": [
      "Cargando Airbnb y realizando búsqueda de ' La Serena '\n"
     ]
    }
   ],
   "source": [
    "busqueda = \"La Serena\"\n",
    "def apertura_marketplace(driver, busqueda):\n",
    "    airbnburl = \"https://www.airbnb.cl/\"\n",
    "    driver.get(airbnburl)\n",
    "    time.sleep(3)\n",
    "    print(\"Cargando Airbnb y realizando búsqueda de '\", busqueda, \"'\")\n",
    "    buscador = driver.find_element(By.XPATH,'//div[contains(text(), \"En cualquier lugar del mundo\")]/..')\n",
    "    buscador.click()\n",
    "    time.sleep(1)\n",
    "    buscador = driver.find_element(By.XPATH, '//input[@id=\"bigsearch-query-location-input\"]')\n",
    "    #buscador.clear()\n",
    "    #buscador.send_keys(Keys.CONTROL, \"a\")\n",
    "    #buscador.send_keys(Keys.DELETE)\n",
    "    buscador.send_keys(busqueda)\n",
    "    button = driver.find_element(By.XPATH,'//button[@data-testid=\"structured-search-input-search-button\"]')\n",
    "    button.click()\n",
    "    time.sleep(3)\n",
    "apertura_marketplace(driver, busqueda)\n",
    "\n",
    "#<input class=\"ivycze5 dir dir-ltr\" aria-autocomplete=\"none\" autocomplete=\"off\" autocorrect=\"off\" spellcheck=\"false\" id=\"bigsearch-query-location-input\" name=\"query\" aria-describedby=\"bigsearch-query-location-description\" placeholder=\"Explora destinos\" data-testid=\"structured-search-input-field-query\" value=\"\">"
   ]
  },
  {
   "cell_type": "code",
   "execution_count": 98,
   "metadata": {},
   "outputs": [
    {
     "name": "stdout",
     "output_type": "stream",
     "text": [
      "1000  elementos encontrados\n",
      "Segundo Filtro\n",
      "4\n",
      "TIPO SELECCIONADO :  <<<  Hotel  >>>\n",
      "Elemtos reducidos a  115  objetos\n"
     ]
    }
   ],
   "source": [
    "def aplicar_filtros(driver):\n",
    "    \n",
    "    button = driver.find_element(By.XPATH, '//button[@style=\"--filter-button_border:1px solid var(--j-qkgmf);\"]')\n",
    "    button.click()\n",
    "    time.sleep(1)\n",
    "    \n",
    "    divs = driver.find_element(By.XPATH, '(//*[@id=\"site-content\"])[2]')\n",
    "    \n",
    "    options = divs.find_elements(By.XPATH, './div[3]//section/div[2]/div')\n",
    "    rooms = options[0].find_elements(By.XPATH, \".//button\")\n",
    "    beds = options[1].find_elements(By.XPATH, \".//button\")\n",
    "    baths = options[2].find_elements(By.XPATH, \".//button\")\n",
    "\n",
    "    filtered_rooms = []\n",
    "    filtered_beds = []\n",
    "    filtered_baths = []\n",
    "\n",
    "    def filter_noptions(lista1, lista2):\n",
    "        for element in lista1:\n",
    "            if not any(val in element.text for val in [\"Cualquiera\", \"5\", \"6\", \"7\", \"8+\", \"4\"]):\n",
    "                lista2.append(element)\n",
    "        #for filtered in lista2:\n",
    "        #    print(filtered.text)\n",
    "    \n",
    "    #closebutton = driver.find_element(By.XPATH, '//button[@aria-label=\"Cerrar\"]')\n",
    "    \n",
    "    filter_noptions(rooms, filtered_rooms)\n",
    "    filter_noptions(beds, filtered_beds)\n",
    "    filter_noptions(baths, filtered_baths)\n",
    "\n",
    "    random.choice(filtered_rooms).click()\n",
    "    random.choice(filtered_beds).click()\n",
    "    random.choice(filtered_baths).click()\n",
    "\n",
    "    filterbutton = driver.find_element(By.XPATH, '//a[contains(text(), \"Mostrar\")]')\n",
    "    time.sleep(1)\n",
    "    print(''.join(filter(str.isdigit, filterbutton.text)), \" elementos encontrados\")\n",
    "\n",
    "    def tipo_filtro(divs):\n",
    "        options = divs.find_elements(By.XPATH, './div[4]//button')\n",
    "        print(len(options))\n",
    "        buttontipo = random.choice(options)\n",
    "        buttontipo.click()\n",
    "        return buttontipo.text\n",
    "\n",
    "    if int(''.join(filter(str.isdigit, filterbutton.text))) > 270:\n",
    "        print(\"Segundo Filtro\")\n",
    "        tipo_vivienda = tipo_filtro(divs)\n",
    "        print(\"TIPO SELECCIONADO :  <<< \",tipo_vivienda, \" >>>\")\n",
    "        time.sleep(1)\n",
    "        filterbutton = driver.find_element(By.XPATH, '//a[contains(text(), \"Mostrar\")]')\n",
    "        print(\"Elemtos reducidos a \",''.join(filter(str.isdigit, filterbutton.text)), \" objetos\")    \n",
    "    \n",
    "    def servicio_filtro(divs):\n",
    "        options = divs.find_elements(By.XPATH, './div[5]//span[@data-checkbox=\"true\"]')\n",
    "        print(len(options))\n",
    "        random.choice(options).click()\n",
    "        time.sleep(1)\n",
    "        filterbutton = driver.find_element(By.XPATH, '//a[contains(text(), \"Mostrar\")]')\n",
    "        if int(''.join(filter(str.isdigit, filterbutton.text))) > 270:\n",
    "            print(\"Filtro Extra\")\n",
    "            servicio_filtro(divs)\n",
    "    \n",
    "    if int(''.join(filter(str.isdigit, filterbutton.text))) > 270:\n",
    "        print(\"Tercer Filtro\")\n",
    "        button = divs.find_element(By.XPATH, './div[5]//span[contains(text(), \"Muestra\")]/..')\n",
    "        button.click()\n",
    "        time.sleep(2)\n",
    "        servicio_filtro(divs)\n",
    "        time.sleep(1)\n",
    "        filterbutton = driver.find_element(By.XPATH, '//a[contains(text(), \"Mostrar\")]')\n",
    "        time.sleep(1)\n",
    "        print(\"Elemtos reducidos a \",''.join(filter(str.isdigit, filterbutton.text)), \" objetos\")\n",
    "\n",
    "    filterbutton.click()\n",
    "\n",
    "aplicar_filtros(driver)"
   ]
  },
  {
   "cell_type": "code",
   "execution_count": 99,
   "metadata": {},
   "outputs": [],
   "source": [
    "def scrap(driver, link, df):\n",
    "    driver.get(link)\n",
    "    time.sleep(3)\n",
    "    googlemap = driver.find_element(By.XPATH, '//h2[contains(text(), \"A dónde irás\")]')\n",
    "    driver.execute_script(\"arguments[0].scrollIntoView({behavior: 'instant', block: 'center'});\", googlemap)\n",
    "    time.sleep(4)\n",
    "            \n",
    "    Link = {\"Link\":link}\n",
    "    print(Link)\n",
    "    Comuna = {\"Comuna\": driver.find_element(By.XPATH, '//*[@id=\"site-content\"]/div/div[1]/div[1]/div[1]/div/div/div/div/section/div[2]/div[1]/span/button/span').text}\n",
    "    Camas = {\"Camas\": driver.find_element(By.XPATH, '//*[@id=\"site-content\"]/div/div[1]/div[3]/div/div[1]/div/div[1]/div/div/section/.//span[contains(text(), \"cama\")]').text}\n",
    "    Baños = {\"Baños\": driver.find_element(By.XPATH, '//*[@id=\"site-content\"]/div/div[1]/div[3]/div/div[1]/div/div[1]/div/div/section/.//span[contains(text(), \"baño\")]').text}\n",
    "    Capacidad = {\"Capacidad\":driver.find_element(By.XPATH, '//*[@id=\"site-content\"]/div/div[1]/div[3]/div/div[1]/div/div[1]/div/div/section/.//span[contains(text(), \"huésped\")]').text}\n",
    "    Habitaciones = {\"Habitaciones\":driver.find_element(By.XPATH, '//*[@id=\"site-content\"]/div/div[1]/div[3]/div/div[1]/div/div[1]/div/div/section/.//span[contains(text(), \"habitacion\")]').text}\n",
    "    try: \n",
    "        if driver.find_element(By.XPATH, '//*[@id=\"site-content\"]/div/div[1]/div[3]/div/div[2]/div/div/div[1]/div/div/div/div/div/div/div[1]/div[1]/div[1]/div/span/div/span[2]').text == \"noche\":\n",
    "            Precio = {\"Precio\":driver.find_element(By.XPATH, '//*[@id=\"site-content\"]/div/div[1]/div[3]/div/div[2]/div/div/div[1]/div/div/div/div/div/div/div[1]/div[1]/div[1]/div/span/div/span[1]').text}\n",
    "        else: Precio = {\"Precio\":driver.find_element(By.XPATH, '//*[@id=\"site-content\"]/div/div[1]/div[3]/div/div[2]/div/div/div[1]/div/div/div/div/div/div/div[1]/div[1]/div[1]/div/span/div/span[2]').text}\n",
    "    except: Precio = {\"Precio\": None}\n",
    "    try: Nota = {\"Nota\":driver.find_element(By.XPATH, '//*[@id=\"site-content\"]/div/div[1]/div[3]/div/div[2]/div/div/div[1]/div/div/div/div/div/div/div[1]/div[1]/div[2]/span/span[2]').text}\n",
    "    except: Nota = {\"Nota\": None}\n",
    "    try: Nnota = {\"Nnota\":driver.find_element(By.XPATH, '//*[@id=\"site-content\"]/div/div[1]/div[3]/div/div[2]/div/div/div[1]/div/div/div/div/div/div/div[1]/div[1]/div[2]/span/span[3]/button/span').text}\n",
    "    except: Nnota = {\"Nota\": None}\n",
    "    try: Descripción = {\"Descripción\":driver.find_element(By.XPATH, '//*[@data-section-id=\"DESCRIPTION_DEFAULT\"]/div/div/span/span').text}\n",
    "    except: Descripción = {\"Descripción\":None}\n",
    "    Titulo1 = {\"Titulo1\":driver.find_element(By.XPATH, '//*[@id=\"site-content\"]/div/div[1]/div[1]/div[1]/div/div/div/div/section/div[1]/span/h1').text}\n",
    "    Titulo2 = {\"Titulo2\":driver.find_element(By.XPATH, '//*[@id=\"site-content\"]/div/div[1]/div[3]/div/div[1]/div/div[1]/div/div/section/div/div/div/div[1]/div/h2').text}\n",
    "    Servicios = {\"Servicios\":driver.find_element(By.XPATH, '//*[@data-section-id=\"AMENITIES_DEFAULT\"]/section/div[3]/div').text}\n",
    "    Anfitrion = {\"Anfitrion\":driver.find_element(By.XPATH, '//*[@id=\"site-content\"]/div/div[1]/div[6]/div/div/div/div[2]/div/section/div[1]/div[2]/h2').text}\n",
    "    Registro = {\"Registro\":driver.find_element(By.XPATH, '//*[@id=\"site-content\"]/div/div[1]/div[6]/div/div/div/div[2]/div/section/div[1]/div[2]/div/ol/li').text}\n",
    "    try: Ubides = {\"Ubides\":driver.find_element(By.XPATH, '//*[@id=\"site-content\"]/div/div[1]/div[5]/div/div/div/div[2]/div/section/div[4]/div/div/div/div[2]/span/span').text}\n",
    "    except: Ubides = {\"Ubides\":None}\n",
    "    Ubicacion = {\"Ubicacion\":driver.find_element(By.XPATH, '//*[@class=\"gm-style\"]//a').get_attribute(\"href\")}\n",
    "    n_free_date = {\"n_free_date\": driver.find_element(By.XPATH, '//div[contains(text(),\"Llegada\")]/../div[contains(@data-testid, \"change-dates\")]').text}\n",
    "    ScrapDate = {\"ScrapDate\": datetime.now().date().strftime(\"%d-%m-%Y\")}\n",
    "    dicts = [Link, Camas, Baños, Capacidad, Habitaciones, Precio, Nota, Nnota,\n",
    "        Descripción, Titulo1, Titulo2, Servicios, Anfitrion, Registro, Ubides, Ubicacion, n_free_date, ScrapDate]\n",
    "    #print(dicts)\n",
    "    for dic in dicts:\n",
    "        Comuna.update(dic)\n",
    "\n",
    "    dfmin = pd.DataFrame([Comuna])\n",
    "    df = pd.concat([df,dfmin])\n",
    "    return df"
   ]
  },
  {
   "cell_type": "code",
   "execution_count": 100,
   "metadata": {},
   "outputs": [
    {
     "name": "stdout",
     "output_type": "stream",
     "text": [
      "0\n"
     ]
    }
   ],
   "source": [
    "df = pd.DataFrame()\n",
    "def scrap_items(driver, df):\n",
    "    initial_url = driver.current_url\n",
    "    #print(type(initial_url))\n",
    "    #print(initial_url)\n",
    "    items = driver.find_elements(By.XPATH, '//div[contains(@style, \"contents\")]/.//div[@itemprop=\"itemListElement\"]/div/div/div/a')\n",
    "    print(len(items))\n",
    "    links = []\n",
    "    for item in items:\n",
    "        #print(item.get_attribute(\"href\"))\n",
    "        links.append(item.get_attribute(\"href\"))\n",
    "    for link in links:\n",
    "        try: df = scrap(driver, link, df)\n",
    "        except: \n",
    "            print(\"POP UP ACTIVO\")\n",
    "            time.sleep(10)\n",
    "            cerrar_button = driver.find_element(By.XPATH, \"//button[@aria-label='Cerrar']\")\n",
    "            cerrar_button.click()\n",
    "            time.sleep(3)\n",
    "            df = scrap(driver, link, df)\n",
    "\n",
    "    driver.get(initial_url)\n",
    "\n",
    "    return df\n",
    "\n",
    "df = scrap_items(driver, df)"
   ]
  },
  {
   "cell_type": "code",
   "execution_count": 101,
   "metadata": {},
   "outputs": [
    {
     "ename": "NoSuchElementException",
     "evalue": "Message: no such element: Unable to locate element: {\"method\":\"xpath\",\"selector\":\"//*[@aria-label=\"Siguiente\"]\"}\n  (Session info: chrome=109.0.5414.121)\nStacktrace:\nBacktrace:\n\t(No symbol) [0x00766643]\n\t(No symbol) [0x006FBE21]\n\t(No symbol) [0x005FDA9D]\n\t(No symbol) [0x00631342]\n\t(No symbol) [0x0063147B]\n\t(No symbol) [0x00668DC2]\n\t(No symbol) [0x0064FDC4]\n\t(No symbol) [0x00666B09]\n\t(No symbol) [0x0064FB76]\n\t(No symbol) [0x006249C1]\n\t(No symbol) [0x00625E5D]\n\tGetHandleVerifier [0x009DA142+2497106]\n\tGetHandleVerifier [0x00A085D3+2686691]\n\tGetHandleVerifier [0x00A0BB9C+2700460]\n\tGetHandleVerifier [0x00813B10+635936]\n\t(No symbol) [0x00704A1F]\n\t(No symbol) [0x0070A418]\n\t(No symbol) [0x0070A505]\n\t(No symbol) [0x0071508B]\n\tBaseThreadInitThunk [0x75C000F9+25]\n\tRtlGetAppContainerNamedObjectPath [0x76F47BBE+286]\n\tRtlGetAppContainerNamedObjectPath [0x76F47B8E+238]\n",
     "output_type": "error",
     "traceback": [
      "\u001b[1;31m---------------------------------------------------------------------------\u001b[0m",
      "\u001b[1;31mNoSuchElementException\u001b[0m                    Traceback (most recent call last)",
      "Cell \u001b[1;32mIn[101], line 6\u001b[0m\n\u001b[0;32m      3\u001b[0m     \u001b[39mprint\u001b[39m(button)\n\u001b[0;32m      4\u001b[0m     button\u001b[39m.\u001b[39mclick()\n\u001b[1;32m----> 6\u001b[0m siguiente_pag(driver)\n\u001b[0;32m      8\u001b[0m \u001b[39m### CUANDO NO QUEDAN PAGS, AIRBNB EMPIEZA A RECOMENDAR OTRAS OFERTAS. AHÍ PARA CERRAR EL LOOP SE HACE CUANDO LOS LINKS SON = 0.\u001b[39;00m\n",
      "Cell \u001b[1;32mIn[101], line 2\u001b[0m, in \u001b[0;36msiguiente_pag\u001b[1;34m(driver)\u001b[0m\n\u001b[0;32m      1\u001b[0m \u001b[39mdef\u001b[39;00m \u001b[39msiguiente_pag\u001b[39m(driver):\n\u001b[1;32m----> 2\u001b[0m     button \u001b[39m=\u001b[39m driver\u001b[39m.\u001b[39;49mfind_element(By\u001b[39m.\u001b[39;49mXPATH, \u001b[39m'\u001b[39;49m\u001b[39m//*[@aria-label=\u001b[39;49m\u001b[39m\"\u001b[39;49m\u001b[39mSiguiente\u001b[39;49m\u001b[39m\"\u001b[39;49m\u001b[39m]\u001b[39;49m\u001b[39m'\u001b[39;49m)\n\u001b[0;32m      3\u001b[0m     \u001b[39mprint\u001b[39m(button)\n\u001b[0;32m      4\u001b[0m     button\u001b[39m.\u001b[39mclick()\n",
      "File \u001b[1;32mc:\\Users\\bigdatauls\\AppData\\Local\\Programs\\Python\\Python311\\Lib\\site-packages\\selenium\\webdriver\\remote\\webdriver.py:830\u001b[0m, in \u001b[0;36mWebDriver.find_element\u001b[1;34m(self, by, value)\u001b[0m\n\u001b[0;32m    827\u001b[0m     by \u001b[39m=\u001b[39m By\u001b[39m.\u001b[39mCSS_SELECTOR\n\u001b[0;32m    828\u001b[0m     value \u001b[39m=\u001b[39m \u001b[39mf\u001b[39m\u001b[39m'\u001b[39m\u001b[39m[name=\u001b[39m\u001b[39m\"\u001b[39m\u001b[39m{\u001b[39;00mvalue\u001b[39m}\u001b[39;00m\u001b[39m\"\u001b[39m\u001b[39m]\u001b[39m\u001b[39m'\u001b[39m\n\u001b[1;32m--> 830\u001b[0m \u001b[39mreturn\u001b[39;00m \u001b[39mself\u001b[39;49m\u001b[39m.\u001b[39;49mexecute(Command\u001b[39m.\u001b[39;49mFIND_ELEMENT, {\u001b[39m\"\u001b[39;49m\u001b[39musing\u001b[39;49m\u001b[39m\"\u001b[39;49m: by, \u001b[39m\"\u001b[39;49m\u001b[39mvalue\u001b[39;49m\u001b[39m\"\u001b[39;49m: value})[\u001b[39m\"\u001b[39m\u001b[39mvalue\u001b[39m\u001b[39m\"\u001b[39m]\n",
      "File \u001b[1;32mc:\\Users\\bigdatauls\\AppData\\Local\\Programs\\Python\\Python311\\Lib\\site-packages\\selenium\\webdriver\\remote\\webdriver.py:440\u001b[0m, in \u001b[0;36mWebDriver.execute\u001b[1;34m(self, driver_command, params)\u001b[0m\n\u001b[0;32m    438\u001b[0m response \u001b[39m=\u001b[39m \u001b[39mself\u001b[39m\u001b[39m.\u001b[39mcommand_executor\u001b[39m.\u001b[39mexecute(driver_command, params)\n\u001b[0;32m    439\u001b[0m \u001b[39mif\u001b[39;00m response:\n\u001b[1;32m--> 440\u001b[0m     \u001b[39mself\u001b[39;49m\u001b[39m.\u001b[39;49merror_handler\u001b[39m.\u001b[39;49mcheck_response(response)\n\u001b[0;32m    441\u001b[0m     response[\u001b[39m\"\u001b[39m\u001b[39mvalue\u001b[39m\u001b[39m\"\u001b[39m] \u001b[39m=\u001b[39m \u001b[39mself\u001b[39m\u001b[39m.\u001b[39m_unwrap_value(response\u001b[39m.\u001b[39mget(\u001b[39m\"\u001b[39m\u001b[39mvalue\u001b[39m\u001b[39m\"\u001b[39m, \u001b[39mNone\u001b[39;00m))\n\u001b[0;32m    442\u001b[0m     \u001b[39mreturn\u001b[39;00m response\n",
      "File \u001b[1;32mc:\\Users\\bigdatauls\\AppData\\Local\\Programs\\Python\\Python311\\Lib\\site-packages\\selenium\\webdriver\\remote\\errorhandler.py:245\u001b[0m, in \u001b[0;36mErrorHandler.check_response\u001b[1;34m(self, response)\u001b[0m\n\u001b[0;32m    243\u001b[0m         alert_text \u001b[39m=\u001b[39m value[\u001b[39m\"\u001b[39m\u001b[39malert\u001b[39m\u001b[39m\"\u001b[39m]\u001b[39m.\u001b[39mget(\u001b[39m\"\u001b[39m\u001b[39mtext\u001b[39m\u001b[39m\"\u001b[39m)\n\u001b[0;32m    244\u001b[0m     \u001b[39mraise\u001b[39;00m exception_class(message, screen, stacktrace, alert_text)  \u001b[39m# type: ignore[call-arg]  # mypy is not smart enough here\u001b[39;00m\n\u001b[1;32m--> 245\u001b[0m \u001b[39mraise\u001b[39;00m exception_class(message, screen, stacktrace)\n",
      "\u001b[1;31mNoSuchElementException\u001b[0m: Message: no such element: Unable to locate element: {\"method\":\"xpath\",\"selector\":\"//*[@aria-label=\"Siguiente\"]\"}\n  (Session info: chrome=109.0.5414.121)\nStacktrace:\nBacktrace:\n\t(No symbol) [0x00766643]\n\t(No symbol) [0x006FBE21]\n\t(No symbol) [0x005FDA9D]\n\t(No symbol) [0x00631342]\n\t(No symbol) [0x0063147B]\n\t(No symbol) [0x00668DC2]\n\t(No symbol) [0x0064FDC4]\n\t(No symbol) [0x00666B09]\n\t(No symbol) [0x0064FB76]\n\t(No symbol) [0x006249C1]\n\t(No symbol) [0x00625E5D]\n\tGetHandleVerifier [0x009DA142+2497106]\n\tGetHandleVerifier [0x00A085D3+2686691]\n\tGetHandleVerifier [0x00A0BB9C+2700460]\n\tGetHandleVerifier [0x00813B10+635936]\n\t(No symbol) [0x00704A1F]\n\t(No symbol) [0x0070A418]\n\t(No symbol) [0x0070A505]\n\t(No symbol) [0x0071508B]\n\tBaseThreadInitThunk [0x75C000F9+25]\n\tRtlGetAppContainerNamedObjectPath [0x76F47BBE+286]\n\tRtlGetAppContainerNamedObjectPath [0x76F47B8E+238]\n"
     ]
    }
   ],
   "source": [
    "def siguiente_pag(driver):\n",
    "    button = driver.find_element(By.XPATH, '//*[@aria-label=\"Siguiente\"]')\n",
    "    print(button)\n",
    "    button.click()\n",
    "\n",
    "siguiente_pag(driver)\n",
    "\n",
    "### CUANDO NO QUEDAN PAGS, AIRBNB EMPIEZA A RECOMENDAR OTRAS OFERTAS. AHÍ PARA CERRAR EL LOOP SE HACE CUANDO LOS LINKS SON = 0."
   ]
  },
  {
   "cell_type": "code",
   "execution_count": null,
   "metadata": {},
   "outputs": [
    {
     "data": {
      "text/plain": [
       "0           NaN\n",
       "0    26 reseñas\n",
       "0    12 reseñas\n",
       "0    45 reseñas\n",
       "0     3 reseñas\n",
       "0    23 reseñas\n",
       "0     3 reseñas\n",
       "0     8 reseñas\n",
       "0    11 reseñas\n",
       "0    10 reseñas\n",
       "0           NaN\n",
       "0     4 reseñas\n",
       "0     5 reseñas\n",
       "0           NaN\n",
       "0     3 reseñas\n",
       "0           NaN\n",
       "0     3 reseñas\n",
       "0     3 reseñas\n",
       "Name: Nnota, dtype: object"
      ]
     },
     "execution_count": 61,
     "metadata": {},
     "output_type": "execute_result"
    }
   ],
   "source": [
    "df[\"Nnota\"]"
   ]
  },
  {
   "cell_type": "code",
   "execution_count": null,
   "metadata": {},
   "outputs": [
    {
     "name": "stdout",
     "output_type": "stream",
     "text": [
      "DATOS COLUMNA  Camas\n",
      "5 camas    7\n",
      "4 camas    6\n",
      "6 camas    3\n",
      "9 camas    1\n",
      "3 camas    1\n",
      "Name: Camas, dtype: int64\n"
     ]
    }
   ],
   "source": [
    "unicos_columna(df, 2)"
   ]
  },
  {
   "cell_type": "code",
   "execution_count": 9,
   "metadata": {},
   "outputs": [
    {
     "ename": "NameError",
     "evalue": "name 'df' is not defined",
     "output_type": "error",
     "traceback": [
      "\u001b[1;31m---------------------------------------------------------------------------\u001b[0m",
      "\u001b[1;31mNameError\u001b[0m                                 Traceback (most recent call last)",
      "Cell \u001b[1;32mIn[9], line 49\u001b[0m\n\u001b[0;32m     46\u001b[0m     dfpre \u001b[39m=\u001b[39m dfpre\u001b[39m.\u001b[39mdrop(\u001b[39m'\u001b[39m\u001b[39mindex\u001b[39m\u001b[39m'\u001b[39m, axis\u001b[39m=\u001b[39m\u001b[39m1\u001b[39m)\n\u001b[0;32m     47\u001b[0m     \u001b[39mreturn\u001b[39;00m dfpre\n\u001b[1;32m---> 49\u001b[0m dfpre \u001b[39m=\u001b[39m pre_procesado(df)\n\u001b[0;32m     50\u001b[0m dfpre\u001b[39m.\u001b[39mhead()\n",
      "\u001b[1;31mNameError\u001b[0m: name 'df' is not defined"
     ]
    }
   ],
   "source": [
    "def pre_procesado(df):\n",
    "    dfpre = df.copy(True)\n",
    "    dfpre['Comuna'] = df['Comuna'].apply(lambda x: x.split(',')[0])\n",
    "    dfpre[\"Camas\"] = df[\"Camas\"].apply(lambda x:x.replace(\" \",\"\").replace(\"camas\",\"\").replace(\"cama\",\"\"))\n",
    "    dfpre[\"Baños\"] = df[\"Baños\"].apply(lambda x:x.replace(\" \",\"\").replace(\"baños\",\"\").replace(\"baño\",\"\"))\n",
    "    dfpre[\"Tipo_Baños\"] = df[\"Baños\"].apply(lambda x: 'compartido' if 'compartido' in x else 'privado')\n",
    "    dfpre[\"Capacidad\"] = df[\"Capacidad\"].apply(lambda x:x.replace(\" huéspedes\",\"\").replace(\" huésped\",\"\"))\n",
    "    def remove_numbers(input_string):\n",
    "        return input_string.translate(str.maketrans(\"\", \"\", string.digits))\n",
    "    dfpre[\"Habitaciones\"] = df[\"Habitaciones\"].apply(remove_numbers)\n",
    "    dfpre[\"Habitaciones\"] = dfpre[\"Habitaciones\"].apply(lambda x:x.replace(\"habitaciones\",\"Habitación\"))\n",
    "    dfpre[\"N_Habitaciones\"] = df[\"Habitaciones\"].apply(lambda x: '1' if 'Estudio' in x else x.replace(\" habitaciones\",\"\").replace(\" habitación\",\"\"))\n",
    "    dfpre[\"Precio\"] = df[\"Precio\"].apply(lambda x:x.replace(\" CLP\",\"\").replace(\"$\",\"\").replace(\",\",\"\"))\n",
    "    #dfpre[\"Precio\"] = df[\"Precio\"].str.extract(r'(\\d+(?:,\\d+)?)')\n",
    "    dfpre[\"Nota\"] = df[\"Nota\"].apply(lambda x: x if x is None else x.replace(\" ·\", \"\"))\n",
    "    dfpre[\"Nnota\"]  = df[\"Nnota\"].apply(lambda x: str(x).replace(\" reseñas\", \"\").replace(\" reseña\",\"\") if not pd.isnull(x) else x)\n",
    "    dfpre[\"Titulo2\"] = df['Titulo2'].apply(lambda x: x.split(' - ')[0])\n",
    "    dfpre[\"Servicios\"] = df[\"Servicios\"].apply(lambda x: x.split(' - '))\n",
    "    dfpre[\"Anfitrion\"] = df[\"Anfitrion\"].apply(lambda x:x.replace(\"Anfitrión: \",\"\"))\n",
    "    print(df.shape)\n",
    "    print(dfpre.shape)\n",
    "    dfpre[\"Registro\"] = df[\"Registro\"].apply(lambda x:x.replace(\"Se registró en \",\"\").replace(\" de \",\"-\"))\n",
    "    def transform_string(s):\n",
    "        months = {\n",
    "        \"enero\": \"01\",\n",
    "        \"febrero\": \"02\",\n",
    "        \"marzo\": \"03\",\n",
    "        \"abril\": \"04\",\n",
    "        \"mayo\": \"05\",\n",
    "        \"junio\": \"06\",\n",
    "        \"julio\": \"07\",\n",
    "        \"agosto\": \"08\",\n",
    "        \"septiembre\": \"09\",\n",
    "        \"octubre\": \"10\",\n",
    "        \"noviembre\": \"11\",\n",
    "        \"diciembre\": \"12\"\n",
    "        }\n",
    "        month, year = s.split(\"-\")\n",
    "        return f\"{months[month]}-{year}\"\n",
    "\n",
    "    dfpre[\"Registro\"] = dfpre[\"Registro\"].apply(transform_string)\n",
    "    dfpre[[\"lat\", \"lon\"]] = df[\"Ubicacion\"].str.extract(r\"ll=(-\\d+\\.\\d+),(-\\d+\\.\\d+)\")\n",
    "    \n",
    "    cols = ['Titulo1', 'Titulo2', 'Comuna',  'Capacidad',  'Camas', 'N_Habitaciones', 'Habitaciones', 'Baños',  'Tipo_Baños', 'Precio',  'lat', 'lon', 'Ubicacion', 'Ubides', 'Descripción', 'Servicios', 'Nota', 'Nnota', 'Anfitrion', 'Registro', 'Link']\n",
    "    dfpre = dfpre[cols].reset_index()\n",
    "    dfpre = dfpre.drop('index', axis=1)\n",
    "    return dfpre\n",
    "\n",
    "dfpre = pre_procesado(df)\n",
    "dfpre.head()\n"
   ]
  },
  {
   "cell_type": "code",
   "execution_count": null,
   "metadata": {},
   "outputs": [
    {
     "data": {
      "text/plain": [
       "'https://www.airbnb.cl/rooms/692813718919764807?adults=1&children=0&infants=0&pets=0&check_in=2023-03-03&check_out=2023-03-08&previous_page_section_name=1000'"
      ]
     },
     "execution_count": 93,
     "metadata": {},
     "output_type": "execute_result"
    }
   ],
   "source": [
    "dfpre[\"Link\"][0]"
   ]
  },
  {
   "cell_type": "code",
   "execution_count": 103,
   "metadata": {},
   "outputs": [
    {
     "name": "stdout",
     "output_type": "stream",
     "text": [
      "{'Link': 'https://www.airbnb.cl/rooms/806383910552422838?adults=1&children=0&infants=0&pets=0&check_in=2023-02-13&check_out=2023-02-19&previous_page_section_name=1000'}\n"
     ]
    },
    {
     "ename": "NoSuchElementException",
     "evalue": "Message: no such element: Unable to locate element: {\"method\":\"xpath\",\"selector\":\"//*[@id=\"site-content\"]/div/div[1]/div[3]/div/div[2]/div/div/div[1]/div/div/div/div/div/div/div[1]/div[1]/div[1]/div/span/div/span[2]\"}\n  (Session info: chrome=109.0.5414.121)\nStacktrace:\nBacktrace:\n\t(No symbol) [0x00766643]\n\t(No symbol) [0x006FBE21]\n\t(No symbol) [0x005FDA9D]\n\t(No symbol) [0x00631342]\n\t(No symbol) [0x0063147B]\n\t(No symbol) [0x00668DC2]\n\t(No symbol) [0x0064FDC4]\n\t(No symbol) [0x00666B09]\n\t(No symbol) [0x0064FB76]\n\t(No symbol) [0x006249C1]\n\t(No symbol) [0x00625E5D]\n\tGetHandleVerifier [0x009DA142+2497106]\n\tGetHandleVerifier [0x00A085D3+2686691]\n\tGetHandleVerifier [0x00A0BB9C+2700460]\n\tGetHandleVerifier [0x00813B10+635936]\n\t(No symbol) [0x00704A1F]\n\t(No symbol) [0x0070A418]\n\t(No symbol) [0x0070A505]\n\t(No symbol) [0x0071508B]\n\tBaseThreadInitThunk [0x75C000F9+25]\n\tRtlGetAppContainerNamedObjectPath [0x76F47BBE+286]\n\tRtlGetAppContainerNamedObjectPath [0x76F47B8E+238]\n",
     "output_type": "error",
     "traceback": [
      "\u001b[1;31m---------------------------------------------------------------------------\u001b[0m",
      "\u001b[1;31mNoSuchElementException\u001b[0m                    Traceback (most recent call last)",
      "Cell \u001b[1;32mIn[103], line 2\u001b[0m\n\u001b[0;32m      1\u001b[0m df \u001b[39m=\u001b[39m pd\u001b[39m.\u001b[39mDataFrame()\n\u001b[1;32m----> 2\u001b[0m df \u001b[39m=\u001b[39m scrap(driver, \u001b[39m\"\u001b[39;49m\u001b[39mhttps://www.airbnb.cl/rooms/806383910552422838?adults=1&children=0&infants=0&pets=0&check_in=2023-02-13&check_out=2023-02-19&previous_page_section_name=1000\u001b[39;49m\u001b[39m\"\u001b[39;49m, df)\n",
      "Cell \u001b[1;32mIn[99], line 15\u001b[0m, in \u001b[0;36mscrap\u001b[1;34m(driver, link, df)\u001b[0m\n\u001b[0;32m     13\u001b[0m Capacidad \u001b[39m=\u001b[39m {\u001b[39m\"\u001b[39m\u001b[39mCapacidad\u001b[39m\u001b[39m\"\u001b[39m:driver\u001b[39m.\u001b[39mfind_element(By\u001b[39m.\u001b[39mXPATH, \u001b[39m'\u001b[39m\u001b[39m//*[@id=\u001b[39m\u001b[39m\"\u001b[39m\u001b[39msite-content\u001b[39m\u001b[39m\"\u001b[39m\u001b[39m]/div/div[1]/div[3]/div/div[1]/div/div[1]/div/div/section/.//span[contains(text(), \u001b[39m\u001b[39m\"\u001b[39m\u001b[39mhuésped\u001b[39m\u001b[39m\"\u001b[39m\u001b[39m)]\u001b[39m\u001b[39m'\u001b[39m)\u001b[39m.\u001b[39mtext}\n\u001b[0;32m     14\u001b[0m Habitaciones \u001b[39m=\u001b[39m {\u001b[39m\"\u001b[39m\u001b[39mHabitaciones\u001b[39m\u001b[39m\"\u001b[39m:driver\u001b[39m.\u001b[39mfind_element(By\u001b[39m.\u001b[39mXPATH, \u001b[39m'\u001b[39m\u001b[39m//*[@id=\u001b[39m\u001b[39m\"\u001b[39m\u001b[39msite-content\u001b[39m\u001b[39m\"\u001b[39m\u001b[39m]/div/div[1]/div[3]/div/div[1]/div/div[1]/div/div/section/.//span[contains(text(), \u001b[39m\u001b[39m\"\u001b[39m\u001b[39mhabitacion\u001b[39m\u001b[39m\"\u001b[39m\u001b[39m)]\u001b[39m\u001b[39m'\u001b[39m)\u001b[39m.\u001b[39mtext}\n\u001b[1;32m---> 15\u001b[0m \u001b[39mif\u001b[39;00m driver\u001b[39m.\u001b[39;49mfind_element(By\u001b[39m.\u001b[39;49mXPATH, \u001b[39m'\u001b[39;49m\u001b[39m//*[@id=\u001b[39;49m\u001b[39m\"\u001b[39;49m\u001b[39msite-content\u001b[39;49m\u001b[39m\"\u001b[39;49m\u001b[39m]/div/div[1]/div[3]/div/div[2]/div/div/div[1]/div/div/div/div/div/div/div[1]/div[1]/div[1]/div/span/div/span[2]\u001b[39;49m\u001b[39m'\u001b[39;49m)\u001b[39m.\u001b[39mtext \u001b[39m==\u001b[39m \u001b[39m\"\u001b[39m\u001b[39mnoche\u001b[39m\u001b[39m\"\u001b[39m:\n\u001b[0;32m     16\u001b[0m     Precio \u001b[39m=\u001b[39m {\u001b[39m\"\u001b[39m\u001b[39mPrecio\u001b[39m\u001b[39m\"\u001b[39m:driver\u001b[39m.\u001b[39mfind_element(By\u001b[39m.\u001b[39mXPATH, \u001b[39m'\u001b[39m\u001b[39m//*[@id=\u001b[39m\u001b[39m\"\u001b[39m\u001b[39msite-content\u001b[39m\u001b[39m\"\u001b[39m\u001b[39m]/div/div[1]/div[3]/div/div[2]/div/div/div[1]/div/div/div/div/div/div/div[1]/div[1]/div[1]/div/span/div/span[1]\u001b[39m\u001b[39m'\u001b[39m)\u001b[39m.\u001b[39mtext}\n\u001b[0;32m     17\u001b[0m \u001b[39melse\u001b[39;00m: Precio \u001b[39m=\u001b[39m {\u001b[39m\"\u001b[39m\u001b[39mPrecio\u001b[39m\u001b[39m\"\u001b[39m:driver\u001b[39m.\u001b[39mfind_element(By\u001b[39m.\u001b[39mXPATH, \u001b[39m'\u001b[39m\u001b[39m//*[@id=\u001b[39m\u001b[39m\"\u001b[39m\u001b[39msite-content\u001b[39m\u001b[39m\"\u001b[39m\u001b[39m]/div/div[1]/div[3]/div/div[2]/div/div/div[1]/div/div/div/div/div/div/div[1]/div[1]/div[1]/div/span/div/span[2]\u001b[39m\u001b[39m'\u001b[39m)\u001b[39m.\u001b[39mtext}\n",
      "File \u001b[1;32mc:\\Users\\bigdatauls\\AppData\\Local\\Programs\\Python\\Python311\\Lib\\site-packages\\selenium\\webdriver\\remote\\webdriver.py:830\u001b[0m, in \u001b[0;36mWebDriver.find_element\u001b[1;34m(self, by, value)\u001b[0m\n\u001b[0;32m    827\u001b[0m     by \u001b[39m=\u001b[39m By\u001b[39m.\u001b[39mCSS_SELECTOR\n\u001b[0;32m    828\u001b[0m     value \u001b[39m=\u001b[39m \u001b[39mf\u001b[39m\u001b[39m'\u001b[39m\u001b[39m[name=\u001b[39m\u001b[39m\"\u001b[39m\u001b[39m{\u001b[39;00mvalue\u001b[39m}\u001b[39;00m\u001b[39m\"\u001b[39m\u001b[39m]\u001b[39m\u001b[39m'\u001b[39m\n\u001b[1;32m--> 830\u001b[0m \u001b[39mreturn\u001b[39;00m \u001b[39mself\u001b[39;49m\u001b[39m.\u001b[39;49mexecute(Command\u001b[39m.\u001b[39;49mFIND_ELEMENT, {\u001b[39m\"\u001b[39;49m\u001b[39musing\u001b[39;49m\u001b[39m\"\u001b[39;49m: by, \u001b[39m\"\u001b[39;49m\u001b[39mvalue\u001b[39;49m\u001b[39m\"\u001b[39;49m: value})[\u001b[39m\"\u001b[39m\u001b[39mvalue\u001b[39m\u001b[39m\"\u001b[39m]\n",
      "File \u001b[1;32mc:\\Users\\bigdatauls\\AppData\\Local\\Programs\\Python\\Python311\\Lib\\site-packages\\selenium\\webdriver\\remote\\webdriver.py:440\u001b[0m, in \u001b[0;36mWebDriver.execute\u001b[1;34m(self, driver_command, params)\u001b[0m\n\u001b[0;32m    438\u001b[0m response \u001b[39m=\u001b[39m \u001b[39mself\u001b[39m\u001b[39m.\u001b[39mcommand_executor\u001b[39m.\u001b[39mexecute(driver_command, params)\n\u001b[0;32m    439\u001b[0m \u001b[39mif\u001b[39;00m response:\n\u001b[1;32m--> 440\u001b[0m     \u001b[39mself\u001b[39;49m\u001b[39m.\u001b[39;49merror_handler\u001b[39m.\u001b[39;49mcheck_response(response)\n\u001b[0;32m    441\u001b[0m     response[\u001b[39m\"\u001b[39m\u001b[39mvalue\u001b[39m\u001b[39m\"\u001b[39m] \u001b[39m=\u001b[39m \u001b[39mself\u001b[39m\u001b[39m.\u001b[39m_unwrap_value(response\u001b[39m.\u001b[39mget(\u001b[39m\"\u001b[39m\u001b[39mvalue\u001b[39m\u001b[39m\"\u001b[39m, \u001b[39mNone\u001b[39;00m))\n\u001b[0;32m    442\u001b[0m     \u001b[39mreturn\u001b[39;00m response\n",
      "File \u001b[1;32mc:\\Users\\bigdatauls\\AppData\\Local\\Programs\\Python\\Python311\\Lib\\site-packages\\selenium\\webdriver\\remote\\errorhandler.py:245\u001b[0m, in \u001b[0;36mErrorHandler.check_response\u001b[1;34m(self, response)\u001b[0m\n\u001b[0;32m    243\u001b[0m         alert_text \u001b[39m=\u001b[39m value[\u001b[39m\"\u001b[39m\u001b[39malert\u001b[39m\u001b[39m\"\u001b[39m]\u001b[39m.\u001b[39mget(\u001b[39m\"\u001b[39m\u001b[39mtext\u001b[39m\u001b[39m\"\u001b[39m)\n\u001b[0;32m    244\u001b[0m     \u001b[39mraise\u001b[39;00m exception_class(message, screen, stacktrace, alert_text)  \u001b[39m# type: ignore[call-arg]  # mypy is not smart enough here\u001b[39;00m\n\u001b[1;32m--> 245\u001b[0m \u001b[39mraise\u001b[39;00m exception_class(message, screen, stacktrace)\n",
      "\u001b[1;31mNoSuchElementException\u001b[0m: Message: no such element: Unable to locate element: {\"method\":\"xpath\",\"selector\":\"//*[@id=\"site-content\"]/div/div[1]/div[3]/div/div[2]/div/div/div[1]/div/div/div/div/div/div/div[1]/div[1]/div[1]/div/span/div/span[2]\"}\n  (Session info: chrome=109.0.5414.121)\nStacktrace:\nBacktrace:\n\t(No symbol) [0x00766643]\n\t(No symbol) [0x006FBE21]\n\t(No symbol) [0x005FDA9D]\n\t(No symbol) [0x00631342]\n\t(No symbol) [0x0063147B]\n\t(No symbol) [0x00668DC2]\n\t(No symbol) [0x0064FDC4]\n\t(No symbol) [0x00666B09]\n\t(No symbol) [0x0064FB76]\n\t(No symbol) [0x006249C1]\n\t(No symbol) [0x00625E5D]\n\tGetHandleVerifier [0x009DA142+2497106]\n\tGetHandleVerifier [0x00A085D3+2686691]\n\tGetHandleVerifier [0x00A0BB9C+2700460]\n\tGetHandleVerifier [0x00813B10+635936]\n\t(No symbol) [0x00704A1F]\n\t(No symbol) [0x0070A418]\n\t(No symbol) [0x0070A505]\n\t(No symbol) [0x0071508B]\n\tBaseThreadInitThunk [0x75C000F9+25]\n\tRtlGetAppContainerNamedObjectPath [0x76F47BBE+286]\n\tRtlGetAppContainerNamedObjectPath [0x76F47B8E+238]\n"
     ]
    }
   ],
   "source": [
    "df = pd.DataFrame()\n",
    "df = scrap(driver, \"https://www.airbnb.cl/rooms/806383910552422838?adults=1&children=0&infants=0&pets=0&check_in=2023-02-13&check_out=2023-02-19&previous_page_section_name=1000\", df)"
   ]
  },
  {
   "cell_type": "code",
   "execution_count": 8,
   "metadata": {},
   "outputs": [
    {
     "ename": "AttributeError",
     "evalue": "'str' object has no attribute 'extract'",
     "output_type": "error",
     "traceback": [
      "\u001b[1;31m---------------------------------------------------------------------------\u001b[0m",
      "\u001b[1;31mAttributeError\u001b[0m                            Traceback (most recent call last)",
      "Cell \u001b[1;32mIn[8], line 2\u001b[0m\n\u001b[0;32m      1\u001b[0m tipo \u001b[39m=\u001b[39m pd\u001b[39m.\u001b[39mDataFrame({\u001b[39m\"\u001b[39m\u001b[39mYES\u001b[39m\u001b[39m\"\u001b[39m:[\u001b[39mNone\u001b[39;00m,\u001b[39m\"\u001b[39m\u001b[39m$100.000\u001b[39m\u001b[39m\"\u001b[39m]})\n\u001b[1;32m----> 2\u001b[0m \u001b[39mprint\u001b[39m(tipo[\u001b[39m\"\u001b[39;49m\u001b[39mYES\u001b[39;49m\u001b[39m\"\u001b[39;49m]\u001b[39m.\u001b[39;49mapply(\u001b[39mlambda\u001b[39;49;00m x: x \u001b[39mif\u001b[39;49;00m x \u001b[39mis\u001b[39;49;00m \u001b[39mNone\u001b[39;49;00m \u001b[39melse\u001b[39;49;00m x\u001b[39m.\u001b[39;49mextract(\u001b[39mr\u001b[39;49m\u001b[39m'\u001b[39;49m\u001b[39m(\u001b[39;49m\u001b[39m\\\u001b[39;49m\u001b[39md+(?:,\u001b[39;49m\u001b[39m\\\u001b[39;49m\u001b[39md+)?)\u001b[39;49m\u001b[39m'\u001b[39;49m)))\n",
      "File \u001b[1;32mc:\\Users\\bigdatauls\\AppData\\Local\\Programs\\Python\\Python311\\Lib\\site-packages\\pandas\\core\\series.py:4771\u001b[0m, in \u001b[0;36mSeries.apply\u001b[1;34m(self, func, convert_dtype, args, **kwargs)\u001b[0m\n\u001b[0;32m   4661\u001b[0m \u001b[39mdef\u001b[39;00m \u001b[39mapply\u001b[39m(\n\u001b[0;32m   4662\u001b[0m     \u001b[39mself\u001b[39m,\n\u001b[0;32m   4663\u001b[0m     func: AggFuncType,\n\u001b[1;32m   (...)\u001b[0m\n\u001b[0;32m   4666\u001b[0m     \u001b[39m*\u001b[39m\u001b[39m*\u001b[39mkwargs,\n\u001b[0;32m   4667\u001b[0m ) \u001b[39m-\u001b[39m\u001b[39m>\u001b[39m DataFrame \u001b[39m|\u001b[39m Series:\n\u001b[0;32m   4668\u001b[0m \u001b[39m    \u001b[39m\u001b[39m\"\"\"\u001b[39;00m\n\u001b[0;32m   4669\u001b[0m \u001b[39m    Invoke function on values of Series.\u001b[39;00m\n\u001b[0;32m   4670\u001b[0m \n\u001b[1;32m   (...)\u001b[0m\n\u001b[0;32m   4769\u001b[0m \u001b[39m    dtype: float64\u001b[39;00m\n\u001b[0;32m   4770\u001b[0m \u001b[39m    \"\"\"\u001b[39;00m\n\u001b[1;32m-> 4771\u001b[0m     \u001b[39mreturn\u001b[39;00m SeriesApply(\u001b[39mself\u001b[39;49m, func, convert_dtype, args, kwargs)\u001b[39m.\u001b[39;49mapply()\n",
      "File \u001b[1;32mc:\\Users\\bigdatauls\\AppData\\Local\\Programs\\Python\\Python311\\Lib\\site-packages\\pandas\\core\\apply.py:1123\u001b[0m, in \u001b[0;36mSeriesApply.apply\u001b[1;34m(self)\u001b[0m\n\u001b[0;32m   1120\u001b[0m     \u001b[39mreturn\u001b[39;00m \u001b[39mself\u001b[39m\u001b[39m.\u001b[39mapply_str()\n\u001b[0;32m   1122\u001b[0m \u001b[39m# self.f is Callable\u001b[39;00m\n\u001b[1;32m-> 1123\u001b[0m \u001b[39mreturn\u001b[39;00m \u001b[39mself\u001b[39;49m\u001b[39m.\u001b[39;49mapply_standard()\n",
      "File \u001b[1;32mc:\\Users\\bigdatauls\\AppData\\Local\\Programs\\Python\\Python311\\Lib\\site-packages\\pandas\\core\\apply.py:1174\u001b[0m, in \u001b[0;36mSeriesApply.apply_standard\u001b[1;34m(self)\u001b[0m\n\u001b[0;32m   1172\u001b[0m     \u001b[39melse\u001b[39;00m:\n\u001b[0;32m   1173\u001b[0m         values \u001b[39m=\u001b[39m obj\u001b[39m.\u001b[39mastype(\u001b[39mobject\u001b[39m)\u001b[39m.\u001b[39m_values\n\u001b[1;32m-> 1174\u001b[0m         mapped \u001b[39m=\u001b[39m lib\u001b[39m.\u001b[39;49mmap_infer(\n\u001b[0;32m   1175\u001b[0m             values,\n\u001b[0;32m   1176\u001b[0m             f,\n\u001b[0;32m   1177\u001b[0m             convert\u001b[39m=\u001b[39;49m\u001b[39mself\u001b[39;49m\u001b[39m.\u001b[39;49mconvert_dtype,\n\u001b[0;32m   1178\u001b[0m         )\n\u001b[0;32m   1180\u001b[0m \u001b[39mif\u001b[39;00m \u001b[39mlen\u001b[39m(mapped) \u001b[39mand\u001b[39;00m \u001b[39misinstance\u001b[39m(mapped[\u001b[39m0\u001b[39m], ABCSeries):\n\u001b[0;32m   1181\u001b[0m     \u001b[39m# GH#43986 Need to do list(mapped) in order to get treated as nested\u001b[39;00m\n\u001b[0;32m   1182\u001b[0m     \u001b[39m#  See also GH#25959 regarding EA support\u001b[39;00m\n\u001b[0;32m   1183\u001b[0m     \u001b[39mreturn\u001b[39;00m obj\u001b[39m.\u001b[39m_constructor_expanddim(\u001b[39mlist\u001b[39m(mapped), index\u001b[39m=\u001b[39mobj\u001b[39m.\u001b[39mindex)\n",
      "File \u001b[1;32mc:\\Users\\bigdatauls\\AppData\\Local\\Programs\\Python\\Python311\\Lib\\site-packages\\pandas\\_libs\\lib.pyx:2924\u001b[0m, in \u001b[0;36mpandas._libs.lib.map_infer\u001b[1;34m()\u001b[0m\n",
      "Cell \u001b[1;32mIn[8], line 2\u001b[0m, in \u001b[0;36m<lambda>\u001b[1;34m(x)\u001b[0m\n\u001b[0;32m      1\u001b[0m tipo \u001b[39m=\u001b[39m pd\u001b[39m.\u001b[39mDataFrame({\u001b[39m\"\u001b[39m\u001b[39mYES\u001b[39m\u001b[39m\"\u001b[39m:[\u001b[39mNone\u001b[39;00m,\u001b[39m\"\u001b[39m\u001b[39m$100.000\u001b[39m\u001b[39m\"\u001b[39m]})\n\u001b[1;32m----> 2\u001b[0m \u001b[39mprint\u001b[39m(tipo[\u001b[39m\"\u001b[39m\u001b[39mYES\u001b[39m\u001b[39m\"\u001b[39m]\u001b[39m.\u001b[39mapply(\u001b[39mlambda\u001b[39;00m x: x \u001b[39mif\u001b[39;00m x \u001b[39mis\u001b[39;00m \u001b[39mNone\u001b[39;00m \u001b[39melse\u001b[39;00m x\u001b[39m.\u001b[39;49mextract(\u001b[39mr\u001b[39m\u001b[39m'\u001b[39m\u001b[39m(\u001b[39m\u001b[39m\\\u001b[39m\u001b[39md+(?:,\u001b[39m\u001b[39m\\\u001b[39m\u001b[39md+)?)\u001b[39m\u001b[39m'\u001b[39m)))\n",
      "\u001b[1;31mAttributeError\u001b[0m: 'str' object has no attribute 'extract'"
     ]
    }
   ],
   "source": [
    "tipo = pd.DataFrame({\"YES\":[None,\"$100.000\"]})\n",
    "print(tipo[\"YES\"].apply(lambda x: x if x is None else x.extract(r'(\\d+(?:,\\d+)?)')))"
   ]
  },
  {
   "cell_type": "code",
   "execution_count": null,
   "metadata": {},
   "outputs": [],
   "source": []
  }
 ],
 "metadata": {
  "kernelspec": {
   "display_name": "Python 3",
   "language": "python",
   "name": "python3"
  },
  "language_info": {
   "codemirror_mode": {
    "name": "ipython",
    "version": 3
   },
   "file_extension": ".py",
   "mimetype": "text/x-python",
   "name": "python",
   "nbconvert_exporter": "python",
   "pygments_lexer": "ipython3",
   "version": "3.11.1"
  },
  "orig_nbformat": 4,
  "vscode": {
   "interpreter": {
    "hash": "8dbbfd8c4b4296a8c7559728cf01a1684c234e8ede3b88a4f34543b1415c1c34"
   }
  }
 },
 "nbformat": 4,
 "nbformat_minor": 2
}
